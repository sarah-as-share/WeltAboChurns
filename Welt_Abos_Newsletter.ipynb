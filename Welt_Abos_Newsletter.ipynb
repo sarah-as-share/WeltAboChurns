{
 "cells": [
  {
   "cell_type": "markdown",
   "metadata": {},
   "source": [
    "# Welt-Abos und Newsletter-Abos"
   ]
  },
  {
   "cell_type": "code",
   "execution_count": 1,
   "metadata": {},
   "outputs": [
    {
     "name": "stdout",
     "output_type": "stream",
     "text": [
      "Populating the interactive namespace from numpy and matplotlib\n"
     ]
    }
   ],
   "source": [
    "import pandas as pd\n",
    "%pylab inline\n",
    "\n",
    "# date handling\n",
    "dateparse = lambda x: pd.datetime.strptime(x, '%m/%d/%Y')"
   ]
  },
  {
   "cell_type": "markdown",
   "metadata": {},
   "source": [
    "### Load Data"
   ]
  },
  {
   "cell_type": "code",
   "execution_count": 2,
   "metadata": {},
   "outputs": [],
   "source": [
    "# Newsletter\n",
    "newsl = pd.read_csv('../data/Newsletter.CSV', parse_dates = ['Abmeldedatum','Anmeldedatum'],date_parser = dateparse)\n",
    "# Main infos on subscriptions\n",
    "product_owner = pd.read_csv(\"../data/SSOID_Produktbesitze.CSV\", encoding = 'latin-1', \n",
    "                            parse_dates = ['VB_Tag','VE_Tag'], date_parser = dateparse)"
   ]
  },
  {
   "cell_type": "markdown",
   "metadata": {},
   "source": [
    "### Verheiraten der beiden Datensätze newsl & product_owner"
   ]
  },
  {
   "cell_type": "markdown",
   "metadata": {},
   "source": [
    "Wenn Kunde mehrere Newsletter hat, wird nur einer behalten. Also steckt im Datenstz jetzt:\n",
    "Kunde hat ein oder mehrere Newsletter? ja/nein"
   ]
  },
  {
   "cell_type": "code",
   "execution_count": 18,
   "metadata": {},
   "outputs": [],
   "source": [
    "newsl_woDups = newsl.drop_duplicates('SSO ID')"
   ]
  },
  {
   "cell_type": "code",
   "execution_count": 19,
   "metadata": {},
   "outputs": [
    {
     "name": "stdout",
     "output_type": "stream",
     "text": [
      "(7452, 4)\n",
      "(4848, 4)\n"
     ]
    }
   ],
   "source": [
    "print(newsl.shape)\n",
    "print(newsl_woDups.shape)"
   ]
  },
  {
   "cell_type": "code",
   "execution_count": 21,
   "metadata": {},
   "outputs": [],
   "source": [
    "product_owner_w_newsl = pd.merge(product_owner, newsl_woDups, left_on = 'KD SSO-ID', right_on='SSO ID', how = 'left')"
   ]
  },
  {
   "cell_type": "code",
   "execution_count": 22,
   "metadata": {},
   "outputs": [
    {
     "name": "stdout",
     "output_type": "stream",
     "text": [
      "(100238, 18)\n",
      "(100238, 22)\n"
     ]
    }
   ],
   "source": [
    "print(product_owner.shape)\n",
    "print(product_owner_w_newsl.shape)"
   ]
  },
  {
   "cell_type": "code",
   "execution_count": 23,
   "metadata": {},
   "outputs": [
    {
     "data": {
      "text/html": [
       "<div>\n",
       "<style scoped>\n",
       "    .dataframe tbody tr th:only-of-type {\n",
       "        vertical-align: middle;\n",
       "    }\n",
       "\n",
       "    .dataframe tbody tr th {\n",
       "        vertical-align: top;\n",
       "    }\n",
       "\n",
       "    .dataframe thead th {\n",
       "        text-align: right;\n",
       "    }\n",
       "</style>\n",
       "<table border=\"1\" class=\"dataframe\">\n",
       "  <thead>\n",
       "    <tr style=\"text-align: right;\">\n",
       "      <th></th>\n",
       "      <th>KD SSO-ID</th>\n",
       "      <th>VT Transaction ID</th>\n",
       "      <th>Verkaufsort</th>\n",
       "      <th>Vertragsstatus</th>\n",
       "      <th>Kuendigungsstatus</th>\n",
       "      <th>Kuendigungsgrund</th>\n",
       "      <th>Kuendigungsgrund_ID</th>\n",
       "      <th>Angebotsgruppe</th>\n",
       "      <th>Promotion_ID</th>\n",
       "      <th>Angebotsname</th>\n",
       "      <th>...</th>\n",
       "      <th>Laufzeit_Trial</th>\n",
       "      <th>Laufzeit</th>\n",
       "      <th>Vertragsphase</th>\n",
       "      <th>VB_Tag</th>\n",
       "      <th>VE_Tag</th>\n",
       "      <th>Lieferdauer</th>\n",
       "      <th>SSO ID</th>\n",
       "      <th>Abmeldedatum</th>\n",
       "      <th>Anmeldedatum</th>\n",
       "      <th>Newsletter mit Klartext</th>\n",
       "    </tr>\n",
       "  </thead>\n",
       "  <tbody>\n",
       "    <tr>\n",
       "      <th>0</th>\n",
       "      <td>ASAG1644113</td>\n",
       "      <td>9bd2f2fd63bb4b859f35c5dd23f45832</td>\n",
       "      <td>WONP</td>\n",
       "      <td>aktiv</td>\n",
       "      <td>ungekuendigt</td>\n",
       "      <td>NaN</td>\n",
       "      <td>NaN</td>\n",
       "      <td>WELTplus Premium</td>\n",
       "      <td>10003024</td>\n",
       "      <td>wb.pluspremium.1m.0.0.nop.b2c.up.-</td>\n",
       "      <td>...</td>\n",
       "      <td>NaN</td>\n",
       "      <td>1.0</td>\n",
       "      <td>Vollabo</td>\n",
       "      <td>2018-01-18</td>\n",
       "      <td>2018-04-17</td>\n",
       "      <td>82</td>\n",
       "      <td>NaN</td>\n",
       "      <td>NaT</td>\n",
       "      <td>NaT</td>\n",
       "      <td>NaN</td>\n",
       "    </tr>\n",
       "    <tr>\n",
       "      <th>1</th>\n",
       "      <td>ASAG1644223</td>\n",
       "      <td>175e9cd18d874d6ea0a9022986a6d153</td>\n",
       "      <td>WONP</td>\n",
       "      <td>nicht aktiv</td>\n",
       "      <td>gekuendigt</td>\n",
       "      <td>Ohne Angabe eines Grundes</td>\n",
       "      <td>0.0</td>\n",
       "      <td>WELTplus Premium</td>\n",
       "      <td>10003145</td>\n",
       "      <td>wb.pluspremium.2m.0.0.nop.b2c.-.-</td>\n",
       "      <td>...</td>\n",
       "      <td>2.0</td>\n",
       "      <td>1.0</td>\n",
       "      <td>Trial</td>\n",
       "      <td>2017-04-20</td>\n",
       "      <td>2017-06-19</td>\n",
       "      <td>60</td>\n",
       "      <td>NaN</td>\n",
       "      <td>NaT</td>\n",
       "      <td>NaT</td>\n",
       "      <td>NaN</td>\n",
       "    </tr>\n",
       "    <tr>\n",
       "      <th>2</th>\n",
       "      <td>ASAG1644223</td>\n",
       "      <td>4e8c3e37ee4140c7a29ea201b1ed50bd</td>\n",
       "      <td>WONP</td>\n",
       "      <td>aktiv</td>\n",
       "      <td>ungekuendigt</td>\n",
       "      <td>NaN</td>\n",
       "      <td>NaN</td>\n",
       "      <td>WELTplus Premium</td>\n",
       "      <td>10003010</td>\n",
       "      <td>wb.pluspremium.1j.0.0.nop.b2c.-.fap-rabatt</td>\n",
       "      <td>...</td>\n",
       "      <td>NaN</td>\n",
       "      <td>12.0</td>\n",
       "      <td>Vollabo</td>\n",
       "      <td>2017-06-18</td>\n",
       "      <td>2018-04-17</td>\n",
       "      <td>296</td>\n",
       "      <td>NaN</td>\n",
       "      <td>NaT</td>\n",
       "      <td>NaT</td>\n",
       "      <td>NaN</td>\n",
       "    </tr>\n",
       "    <tr>\n",
       "      <th>3</th>\n",
       "      <td>ASAG1644396</td>\n",
       "      <td>216a2ad2556943e79b8b9da7abb2be14</td>\n",
       "      <td>WONP</td>\n",
       "      <td>aktiv</td>\n",
       "      <td>ungekuendigt</td>\n",
       "      <td>NaN</td>\n",
       "      <td>NaN</td>\n",
       "      <td>WELTplus Premium</td>\n",
       "      <td>10003145</td>\n",
       "      <td>wb.pluspremium.2m.0.0.nop.b2c.-.-</td>\n",
       "      <td>...</td>\n",
       "      <td>2.0</td>\n",
       "      <td>1.0</td>\n",
       "      <td>Trial</td>\n",
       "      <td>2018-03-28</td>\n",
       "      <td>2018-05-27</td>\n",
       "      <td>13</td>\n",
       "      <td>NaN</td>\n",
       "      <td>NaT</td>\n",
       "      <td>NaT</td>\n",
       "      <td>NaN</td>\n",
       "    </tr>\n",
       "    <tr>\n",
       "      <th>4</th>\n",
       "      <td>ASAG1644425</td>\n",
       "      <td>c82d84536d2a463d96abd62a6b25b942</td>\n",
       "      <td>WONP</td>\n",
       "      <td>nicht aktiv</td>\n",
       "      <td>ungekuendigt</td>\n",
       "      <td>NaN</td>\n",
       "      <td>NaN</td>\n",
       "      <td>WELTplus Premium</td>\n",
       "      <td>10003017</td>\n",
       "      <td>wb.pluspremium.1m.0.0.pop.b2c.-.-</td>\n",
       "      <td>...</td>\n",
       "      <td>NaN</td>\n",
       "      <td>1.0</td>\n",
       "      <td>Vollabo</td>\n",
       "      <td>2017-06-17</td>\n",
       "      <td>2017-07-16</td>\n",
       "      <td>297</td>\n",
       "      <td>NaN</td>\n",
       "      <td>NaT</td>\n",
       "      <td>NaT</td>\n",
       "      <td>NaN</td>\n",
       "    </tr>\n",
       "  </tbody>\n",
       "</table>\n",
       "<p>5 rows × 22 columns</p>\n",
       "</div>"
      ],
      "text/plain": [
       "     KD SSO-ID                 VT Transaction ID Verkaufsort Vertragsstatus  \\\n",
       "0  ASAG1644113  9bd2f2fd63bb4b859f35c5dd23f45832        WONP          aktiv   \n",
       "1  ASAG1644223  175e9cd18d874d6ea0a9022986a6d153        WONP    nicht aktiv   \n",
       "2  ASAG1644223  4e8c3e37ee4140c7a29ea201b1ed50bd        WONP          aktiv   \n",
       "3  ASAG1644396  216a2ad2556943e79b8b9da7abb2be14        WONP          aktiv   \n",
       "4  ASAG1644425  c82d84536d2a463d96abd62a6b25b942        WONP    nicht aktiv   \n",
       "\n",
       "  Kuendigungsstatus            Kuendigungsgrund  Kuendigungsgrund_ID  \\\n",
       "0      ungekuendigt                         NaN                  NaN   \n",
       "1        gekuendigt  Ohne Angabe eines Grundes                   0.0   \n",
       "2      ungekuendigt                         NaN                  NaN   \n",
       "3      ungekuendigt                         NaN                  NaN   \n",
       "4      ungekuendigt                         NaN                  NaN   \n",
       "\n",
       "     Angebotsgruppe  Promotion_ID                                Angebotsname  \\\n",
       "0  WELTplus Premium      10003024          wb.pluspremium.1m.0.0.nop.b2c.up.-   \n",
       "1  WELTplus Premium      10003145           wb.pluspremium.2m.0.0.nop.b2c.-.-   \n",
       "2  WELTplus Premium      10003010  wb.pluspremium.1j.0.0.nop.b2c.-.fap-rabatt   \n",
       "3  WELTplus Premium      10003145           wb.pluspremium.2m.0.0.nop.b2c.-.-   \n",
       "4  WELTplus Premium      10003017           wb.pluspremium.1m.0.0.pop.b2c.-.-   \n",
       "\n",
       "            ...           Laufzeit_Trial Laufzeit  Vertragsphase     VB_Tag  \\\n",
       "0           ...                      NaN      1.0        Vollabo 2018-01-18   \n",
       "1           ...                      2.0      1.0          Trial 2017-04-20   \n",
       "2           ...                      NaN     12.0        Vollabo 2017-06-18   \n",
       "3           ...                      2.0      1.0          Trial 2018-03-28   \n",
       "4           ...                      NaN      1.0        Vollabo 2017-06-17   \n",
       "\n",
       "      VE_Tag Lieferdauer SSO ID  Abmeldedatum Anmeldedatum  \\\n",
       "0 2018-04-17          82    NaN           NaT          NaT   \n",
       "1 2017-06-19          60    NaN           NaT          NaT   \n",
       "2 2018-04-17         296    NaN           NaT          NaT   \n",
       "3 2018-05-27          13    NaN           NaT          NaT   \n",
       "4 2017-07-16         297    NaN           NaT          NaT   \n",
       "\n",
       "  Newsletter mit Klartext  \n",
       "0                     NaN  \n",
       "1                     NaN  \n",
       "2                     NaN  \n",
       "3                     NaN  \n",
       "4                     NaN  \n",
       "\n",
       "[5 rows x 22 columns]"
      ]
     },
     "execution_count": 23,
     "metadata": {},
     "output_type": "execute_result"
    }
   ],
   "source": [
    "product_owner_w_newsl.head()"
   ]
  },
  {
   "cell_type": "markdown",
   "metadata": {},
   "source": [
    "### Nur langfristige und gekündigte Abos "
   ]
  },
  {
   "cell_type": "markdown",
   "metadata": {},
   "source": [
    "Es werden nur Kunden untersucht, die PromoIds für WeltPlus/WeltPremium/WeltGold und Vertragsstatus 'Vollabo' haben. \n",
    "Es werden nur Abos untersucht, die gekündigt wurden"
   ]
  },
  {
   "cell_type": "code",
   "execution_count": 39,
   "metadata": {},
   "outputs": [],
   "source": [
    "product_owner_w_newsl_longCancSub_ = product_owner_w_newsl.loc[\n",
    "    (product_owner_w_newsl['Promotion_ID'] == 10003002) |\n",
    "    (product_owner_w_newsl['Promotion_ID'] == 10003006) |\n",
    "    (product_owner_w_newsl['Promotion_ID'] == 10003011) ].copy()\n",
    "\n",
    "product_owner_w_newsl_longCancSub = product_owner_w_newsl_longCancSub_.loc[\n",
    "    (product_owner_w_newsl_longCancSub_['Vertragsphase'] == 'Vollabo')&\n",
    "    (product_owner_w_newsl_longCancSub_['Kuendigungsstatus'] == 'gekuendigt')\n",
    "].copy()"
   ]
  },
  {
   "cell_type": "code",
   "execution_count": 40,
   "metadata": {},
   "outputs": [
    {
     "name": "stdout",
     "output_type": "stream",
     "text": [
      "(100238, 22)\n",
      "(29834, 22)\n",
      "(7711, 22)\n"
     ]
    }
   ],
   "source": [
    "print(product_owner_w_newsl.shape)\n",
    "print(product_owner_w_newsl_longCancSub_.shape)\n",
    "print(product_owner_w_newsl_longCancSub.shape)"
   ]
  },
  {
   "cell_type": "markdown",
   "metadata": {},
   "source": [
    "# Haben die Kunden mit Newsletter eine längere Vertragslänge?"
   ]
  },
  {
   "cell_type": "markdown",
   "metadata": {},
   "source": [
    "Vertragslänge berechnen (Vertragsbeginn - Vertragsende in Tagen )"
   ]
  },
  {
   "cell_type": "code",
   "execution_count": 60,
   "metadata": {},
   "outputs": [],
   "source": [
    "product_owner_w_newsl_longCancSub['VLaenge'] = (product_owner_w_newsl_longCancSub['VE_Tag'] - \n",
    "                                                product_owner_w_newsl_longCancSub['VB_Tag']) / np.timedelta64(1,'D')\n",
    "\n",
    "product_owner_w_newsl_longCancSub['newsl'] = np.where(pd.isnull(product_owner_w_newsl_longCancSub['Newsletter mit Klartext']),\n",
    "                                                      'kein Newsl', 'ein Newsl')"
   ]
  },
  {
   "cell_type": "code",
   "execution_count": 64,
   "metadata": {},
   "outputs": [
    {
     "data": {
      "text/plain": [
       "newsl\n",
       "ein Newsl      109\n",
       "kein Newsl    7602\n",
       "Name: VLaenge, dtype: int64"
      ]
     },
     "execution_count": 64,
     "metadata": {},
     "output_type": "execute_result"
    }
   ],
   "source": [
    "product_owner_w_newsl_longCancSub.groupby('newsl')['VLaenge'].count()"
   ]
  },
  {
   "cell_type": "markdown",
   "metadata": {},
   "source": [
    "Es haben nur 109 gkündigte Abonnenten mind. einen Newsletter, 7602 Abonnenten haben keinen Newsletter."
   ]
  },
  {
   "cell_type": "code",
   "execution_count": 93,
   "metadata": {},
   "outputs": [
    {
     "data": {
      "text/plain": [
       "array([<matplotlib.axes._subplots.AxesSubplot object at 0x00000148785307F0>,\n",
       "       <matplotlib.axes._subplots.AxesSubplot object at 0x00000148785554E0>],\n",
       "      dtype=object)"
      ]
     },
     "execution_count": 93,
     "metadata": {},
     "output_type": "execute_result"
    },
    {
     "data": {
      "image/png": "[encoded data removed]",
      "text/plain": [
       "<matplotlib.figure.Figure at 0x14876c28240>"
      ]
     },
     "metadata": {},
     "output_type": "display_data"
    },
    {
     "data": {
      "image/png": "[encoded data removed]",
      "text/plain": [
       "<matplotlib.figure.Figure at 0x148784ad160>"
      ]
     },
     "metadata": {},
     "output_type": "display_data"
    }
   ],
   "source": [
    "product_owner_w_newsl_longCancSub.groupby('newsl')['VLaenge'].hist(normed=1, bins=15)\n",
    "product_owner_w_newsl_longCancSub.hist('VLaenge', by='newsl', normed=1, bins=15)"
   ]
  },
  {
   "cell_type": "markdown",
   "metadata": {},
   "source": [
    "in der oberen Darstellung gilt: orange - mind. ein Newsletter, blau - kein Newsletter\n",
    "\n",
    "Wenn man sich die Verteilungen anguckt, könnte man sagen, dass Leute mit Newsletter im Durchschnitt eine geringfügig längere Vertragslaufzeit haben. Mal statistisch testen...."
   ]
  },
  {
   "cell_type": "code",
   "execution_count": 82,
   "metadata": {},
   "outputs": [],
   "source": [
    "product_owner_w_newsl_longCancSub['log_VLaenge'] = log(product_owner_w_newsl_longCancSub['VLaenge'])"
   ]
  },
  {
   "cell_type": "code",
   "execution_count": 90,
   "metadata": {},
   "outputs": [
    {
     "data": {
      "text/plain": [
       "Ttest_indResult(statistic=1.1978606193617753, pvalue=0.23100811041364966)"
      ]
     },
     "execution_count": 90,
     "metadata": {},
     "output_type": "execute_result"
    }
   ],
   "source": [
    "from scipy.stats import ttest_ind\n",
    "w_newsl = product_owner_w_newsl_longCancSub.loc[product_owner_w_newsl_longCancSub['newsl']=='ein Newsl']\n",
    "wo_newsl = product_owner_w_newsl_longCancSub.loc[-(product_owner_w_newsl_longCancSub['newsl']=='ein Newsl')]\n",
    "\n",
    "ttest_ind(w_newsl['log_VLaenge'],wo_newsl['log_VLaenge'])\n"
   ]
  },
  {
   "cell_type": "markdown",
   "metadata": {},
   "source": [
    "Ein statistischer Test findet aber, dass es keine statistische Relevanz dafür gibt, dass sich die Vertragslängen beider Gruppen (mit und ohne Newsl) unterscheiden. Sie unterschieden sich also nicht statistisch signifikant in der Vertragslänge."
   ]
  }
 ],
 "metadata": {
  "kernelspec": {
   "display_name": "Python 3",
   "language": "python",
   "name": "python3"
  },
  "language_info": {
   "codemirror_mode": {
    "name": "ipython",
    "version": 3
   },
   "file_extension": ".py",
   "mimetype": "text/x-python",
   "name": "python",
   "nbconvert_exporter": "python",
   "pygments_lexer": "ipython3",
   "version": "3.6.5"
  }
 },
 "nbformat": 4,
 "nbformat_minor": 2
}
