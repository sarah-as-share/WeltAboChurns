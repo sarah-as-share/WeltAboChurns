{
 "cells": [
  {
   "cell_type": "markdown",
   "metadata": {},
   "source": [
    "# Preparation"
   ]
  },
  {
   "cell_type": "code",
   "execution_count": 1,
   "metadata": {},
   "outputs": [
    {
     "name": "stdout",
     "output_type": "stream",
     "text": [
      "Populating the interactive namespace from numpy and matplotlib\n"
     ]
    }
   ],
   "source": [
    "import pandas as pd\n",
    "%pylab inline\n",
    "\n",
    "# date handling\n",
    "dateparse = lambda x: pd.datetime.strptime(x, '%m/%d/%Y')"
   ]
  },
  {
   "cell_type": "markdown",
   "metadata": {},
   "source": [
    "# Load Data"
   ]
  },
  {
   "cell_type": "code",
   "execution_count": 6,
   "metadata": {},
   "outputs": [],
   "source": [
    "# Newsletter\n",
    "newsl = pd.read_csv('../data/Newsletter.CSV', parse_dates = ['Abmeldedatum','Anmeldedatum'],date_parser = dateparse)\n",
    "# Info on cancellation\n",
    "abo_canc = pd.read_csv(\"../data/SSOID_CancDatum.CSV\", encoding = 'latin-1', date_parser = dateparse, parse_dates=[\"K Tag\"])\n",
    "# Main infos on subscriptions\n",
    "product_owner = pd.read_csv(\"../data/SSOID_Produktbesitze.CSV\", encoding = 'latin-1', \n",
    "                            parse_dates = ['VB_Tag','VE_Tag'], date_parser = dateparse)\n"
   ]
  },
  {
   "cell_type": "code",
   "execution_count": 3,
   "metadata": {},
   "outputs": [
    {
     "data": {
      "text/plain": [
       "array(['KD SSO-ID', 'VT Transaction ID', 'Verkaufsort', 'Vertragsstatus',\n",
       "       'Kuendigungsstatus', 'Kuendigungsgrund', 'Kuendigungsgrund_ID',\n",
       "       'Angebotsgruppe', 'Promotion_ID', 'Angebotsname', 'Vertragsform',\n",
       "       'Trial_Kennzeichen', 'Laufzeit_Trial', 'Laufzeit', 'Vertragsphase',\n",
       "       'VB_Tag', 'VE_Tag', 'Lieferdauer'], dtype=object)"
      ]
     },
     "execution_count": 3,
     "metadata": {},
     "output_type": "execute_result"
    }
   ],
   "source": [
    "product_owner.columns.values"
   ]
  },
  {
   "cell_type": "code",
   "execution_count": 3,
   "metadata": {},
   "outputs": [
    {
     "name": "stdout",
     "output_type": "stream",
     "text": [
      "['KD SSO-ID' 'VT Transaction ID' 'Verkaufsort' 'Vertragsstatus'\n",
      " 'Kuendigungsstatus' 'Kuendigungsgrund' 'Kuendigungsgrund_ID'\n",
      " 'Angebotsgruppe' 'Promotion_ID' 'Angebotsname' 'Vertragsform'\n",
      " 'Trial_Kennzeichen' 'Laufzeit_Trial' 'Laufzeit' 'Vertragsphase' 'VB_Tag'\n",
      " 'VE_Tag' 'Lieferdauer']\n",
      "\n",
      "['KD SSO-ID' 'VT Transaction ID' 'AN Promotion ID' 'K Tag'\n",
      " 'VT Kündigungsgrund']\n",
      "\n",
      "['SSO ID' 'Abmeldedatum' 'Anmeldedatum' 'Newsletter mit Klartext']\n"
     ]
    }
   ],
   "source": [
    "print(product_owner.columns.values)\n",
    "print('')\n",
    "print(abo_canc.columns.values)\n",
    "print('')\n",
    "print(newsl.columns.values)"
   ]
  },
  {
   "cell_type": "markdown",
   "metadata": {},
   "source": [
    "### Some Merging & data filtering"
   ]
  },
  {
   "cell_type": "code",
   "execution_count": 7,
   "metadata": {},
   "outputs": [],
   "source": [
    "# merge product_owner with subscription cancellation by SSO-ID, VT Transcactions-ID to get date of cancellation\n",
    "# some duplicates\n",
    "product_owner_canc = pd.merge(product_owner, abo_canc, on=['KD SSO-ID', 'VT Transaction ID'])\n",
    "product_owner_canc = product_owner_canc.drop_duplicates(['KD SSO-ID', 'VT Transaction ID'], keep='last')\n",
    "\n",
    "# long subsriptions (WeltPlus, WeltPremium, WeltGold ) + Vollabo\n",
    "po_longSubs = product_owner.loc[((product_owner['Promotion_ID'] == 10003002) & (product_owner['Vertragsphase'] == 'Vollabo'))|\n",
    "                           ((product_owner['Promotion_ID'] == 10003006) & (product_owner['Vertragsphase'] == 'Vollabo'))|\n",
    "                           ((product_owner['Promotion_ID'] == 10003011) & (product_owner['Vertragsphase'] == 'Vollabo'))].copy()\n",
    "\n",
    "# long subsriptions (WeltPlus, WeltPremium, WeltGold ) + Vollabo + Kündigungsdatum\n",
    "po_longSubs_canc = product_owner_canc.loc[((product_owner_canc['Promotion_ID'] == 10003002) & (product_owner_canc['Vertragsphase'] == 'Vollabo'))|\n",
    "                           ((product_owner_canc['Promotion_ID'] == 10003006) & (product_owner_canc['Vertragsphase'] == 'Vollabo'))|\n",
    "                           ((product_owner_canc['Promotion_ID'] == 10003011) & (product_owner_canc['Vertragsphase'] == 'Vollabo'))].copy()\n",
    "\n",
    "po_longSubs_canc['Vertragslaenge'] =  (po_longSubs_canc['VE_Tag'] - po_longSubs_canc['VB_Tag']) / np.timedelta64(1, 'D')"
   ]
  },
  {
   "cell_type": "markdown",
   "metadata": {},
   "source": [
    "### Untergruppen für Vertragslängen"
   ]
  },
  {
   "cell_type": "code",
   "execution_count": 5,
   "metadata": {},
   "outputs": [
    {
     "name": "stdout",
     "output_type": "stream",
     "text": [
      "count    7749.000000\n",
      "mean       97.603691\n",
      "std        69.924465\n",
      "min        28.000000\n",
      "25%        58.000000\n",
      "50%        61.000000\n",
      "75%       121.000000\n",
      "max       456.000000\n",
      "Name: Vertragslaenge, dtype: float64\n"
     ]
    },
    {
     "data": {
      "text/plain": [
       "[Text(0,0.5,'Anzahl der Abos'), Text(0.5,0,'Länge der Abos in Tagen')]"
      ]
     },
     "execution_count": 5,
     "metadata": {},
     "output_type": "execute_result"
    },
    {
     "data": {
      "image/png": "[encoded data removed]",
      "text/plain": [
       "<matplotlib.figure.Figure at 0x215deeef198>"
      ]
     },
     "metadata": {},
     "output_type": "display_data"
    }
   ],
   "source": [
    "print(po_longSubs_canc['Vertragslaenge'].describe())\n",
    "pt = po_longSubs_canc['Vertragslaenge'].hist()\n",
    "pt.set(xlabel='Länge der Abos in Tagen',\n",
    "       ylabel='Anzahl der Abos')"
   ]
  },
  {
   "cell_type": "code",
   "execution_count": 6,
   "metadata": {},
   "outputs": [
    {
     "name": "stdout",
     "output_type": "stream",
     "text": [
      "Prozent der langfristigen Abos mit Laufzeit von bis zu 1 Monaten:\n",
      "0.50%\n",
      "\n",
      "Prozent der langfristigen Abos mit Laufzeit von bis zu 2 Monaten:\n",
      "53.88%\n",
      "\n",
      "Prozent der langfristigen Abos mit Laufzeit von bis zu 3 Monaten:\n",
      "70.05%\n",
      "\n",
      "Prozent der langfristigen Abos mit Laufzeit von bis zu 4 Monaten:\n",
      "79.31%\n",
      "\n",
      "Prozent der langfristigen Abos mit Laufzeit von bis zu 5 Monaten:\n",
      "85.25%\n",
      "\n",
      "Prozent der langfristigen Abos mit Laufzeit von bis zu 6 Monaten:\n",
      "89.59%\n"
     ]
    }
   ],
   "source": [
    "print('Prozent der langfristigen Abos mit Laufzeit von bis zu 1 Monaten:')\n",
    "print('%2.2f'%(sum(po_longSubs_canc['Vertragslaenge']<=31)/7749*100)+'%')\n",
    "print()\n",
    "print('Prozent der langfristigen Abos mit Laufzeit von bis zu 2 Monaten:')\n",
    "print('%2.2f'%(sum(po_longSubs_canc['Vertragslaenge']<=62)/7749*100)+'%')\n",
    "print()\n",
    "print('Prozent der langfristigen Abos mit Laufzeit von bis zu 3 Monaten:')\n",
    "print('%2.2f'%(sum(po_longSubs_canc['Vertragslaenge']<=92)/7749*100)+'%')\n",
    "print()\n",
    "print('Prozent der langfristigen Abos mit Laufzeit von bis zu 4 Monaten:')\n",
    "print('%2.2f'%(sum(po_longSubs_canc['Vertragslaenge']<=124)/7749*100)+'%')\n",
    "print()\n",
    "print('Prozent der langfristigen Abos mit Laufzeit von bis zu 5 Monaten:')\n",
    "print('%2.2f'%(sum(po_longSubs_canc['Vertragslaenge']<=155)/7749*100)+'%')\n",
    "print()\n",
    "print('Prozent der langfristigen Abos mit Laufzeit von bis zu 6 Monaten:')\n",
    "print('%2.2f'%(sum(po_longSubs_canc['Vertragslaenge']<=186)/7749*100)+'%')"
   ]
  },
  {
   "cell_type": "code",
   "execution_count": 8,
   "metadata": {},
   "outputs": [],
   "source": [
    "# make column which labels different contract lengths\n",
    "# Gruppe 1: Vertragslänge 2 Monate (~ 54%)\n",
    "# Gruppe 2: Vertragslänge 4 Monate (~ 25%)\n",
    "# Gruppe 3: Vertragslänge > 4 Monate (~ 21%)\n",
    "po_longSubs_canc['Vertragslaenge_Gruppe'] = \"Gr3\"\n",
    "po_longSubs_canc.loc[po_longSubs_canc['Vertragslaenge'] <= 124, 'Vertragslaenge_Gruppe' ] =\"Gr2\"\n",
    "po_longSubs_canc.loc[po_longSubs_canc['Vertragslaenge'] <= 62, 'Vertragslaenge_Gruppe' ] =\"Gr1\""
   ]
  },
  {
   "cell_type": "markdown",
   "metadata": {},
   "source": [
    "# Data Exploration\n",
    "## Ziel: Kann man Gründe für die Kündigung erkennen?"
   ]
  },
  {
   "cell_type": "markdown",
   "metadata": {},
   "source": [
    "## Subscriptions"
   ]
  },
  {
   "cell_type": "markdown",
   "metadata": {},
   "source": [
    "Zeitraum der Abschlüsse:"
   ]
  },
  {
   "cell_type": "code",
   "execution_count": 9,
   "metadata": {},
   "outputs": [
    {
     "name": "stdout",
     "output_type": "stream",
     "text": [
      "Erstes Abschlussdatum:  2017-01-01 00:00:00\n",
      "Letztes Abschlussdatum:  2018-04-10 00:00:00\n"
     ]
    }
   ],
   "source": [
    "print('Erstes Abschlussdatum: ', product_owner['VB_Tag'].min() )\n",
    "print('Letztes Abschlussdatum: ', product_owner['VB_Tag'].max() )"
   ]
  },
  {
   "cell_type": "markdown",
   "metadata": {},
   "source": [
    "Wieviele Abos haben die Nutzer? WER SCHREIBEN GANZ VIEL"
   ]
  },
  {
   "cell_type": "code",
   "execution_count": 10,
   "metadata": {},
   "outputs": [
    {
     "data": {
      "text/plain": [
       "count    79614.000000\n",
       "mean         1.259050\n",
       "std          1.795813\n",
       "min          1.000000\n",
       "25%          1.000000\n",
       "50%          1.000000\n",
       "75%          1.000000\n",
       "max         92.000000\n",
       "Name: KD SSO-ID, dtype: float64"
      ]
     },
     "execution_count": 10,
     "metadata": {},
     "output_type": "execute_result"
    }
   ],
   "source": [
    "product_owner['KD SSO-ID'].value_counts().describe()"
   ]
  },
  {
   "cell_type": "code",
   "execution_count": 60,
   "metadata": {},
   "outputs": [
    {
     "data": {
      "text/plain": [
       "Text(0,0.5,'Anzahl der Abos')"
      ]
     },
     "execution_count": 60,
     "metadata": {},
     "output_type": "execute_result"
    },
    {
     "data": {
      "image/png": "[encoded data removed]",
      "text/plain": [
       "<matplotlib.figure.Figure at 0x1bc1b0179b0>"
      ]
     },
     "metadata": {},
     "output_type": "display_data"
    }
   ],
   "source": [
    "pt = product_owner['KD SSO-ID'].value_counts().plot(title = 'Alle Nutzer nach der Anzahl ihrer Abos sortiert')\n",
    "pt.set_ylabel('Anzahl der Abos')"
   ]
  },
  {
   "cell_type": "markdown",
   "metadata": {},
   "source": [
    "Die ersten 20 Nutzer mit den meisten Abos und der Anzahl ihrer Abos:"
   ]
  },
  {
   "cell_type": "code",
   "execution_count": 61,
   "metadata": {},
   "outputs": [
    {
     "data": {
      "text/plain": [
       "ASAG7600228    92\n",
       "ASAG7557870    85\n",
       "ASAG7745914    77\n",
       "ASAG7497519    72\n",
       "ASAG7742859    70\n",
       "ASAG7545899    69\n",
       "ASAG7769987    65\n",
       "ASAG7473365    64\n",
       "ASAG7813225    62\n",
       "ASAG2935534    61\n",
       "ASAG6906902    59\n",
       "ASAG7692401    57\n",
       "ASAG7624703    56\n",
       "ASAG7798826    56\n",
       "ASAG7490157    53\n",
       "ASAG2736896    52\n",
       "ASAG7842014    52\n",
       "ASAG1832843    51\n",
       "ASAG7501477    51\n",
       "ASAG7503656    51\n",
       "Name: KD SSO-ID, dtype: int64"
      ]
     },
     "execution_count": 61,
     "metadata": {},
     "output_type": "execute_result"
    }
   ],
   "source": [
    "product_owner['KD SSO-ID'].value_counts().head(20)"
   ]
  },
  {
   "cell_type": "markdown",
   "metadata": {},
   "source": [
    "Die allermeisten Nutzer besitzen nur ein Abo, einige wenige mehrere Abos."
   ]
  },
  {
   "cell_type": "code",
   "execution_count": 123,
   "metadata": {},
   "outputs": [
    {
     "data": {
      "text/html": [
       "<div>\n",
       "<style scoped>\n",
       "    .dataframe tbody tr th:only-of-type {\n",
       "        vertical-align: middle;\n",
       "    }\n",
       "\n",
       "    .dataframe tbody tr th {\n",
       "        vertical-align: top;\n",
       "    }\n",
       "\n",
       "    .dataframe thead th {\n",
       "        text-align: right;\n",
       "    }\n",
       "</style>\n",
       "<table border=\"1\" class=\"dataframe\">\n",
       "  <thead>\n",
       "    <tr style=\"text-align: right;\">\n",
       "      <th></th>\n",
       "      <th>Anzahl</th>\n",
       "      <th>Prozent_von_allen_Abos</th>\n",
       "    </tr>\n",
       "  </thead>\n",
       "  <tbody>\n",
       "    <tr>\n",
       "      <th>10003055</th>\n",
       "      <td>23910</td>\n",
       "      <td>0.238532</td>\n",
       "    </tr>\n",
       "    <tr>\n",
       "      <th>10003002</th>\n",
       "      <td>23467</td>\n",
       "      <td>0.234113</td>\n",
       "    </tr>\n",
       "    <tr>\n",
       "      <th>10003111</th>\n",
       "      <td>17600</td>\n",
       "      <td>0.175582</td>\n",
       "    </tr>\n",
       "    <tr>\n",
       "      <th>10003112</th>\n",
       "      <td>9931</td>\n",
       "      <td>0.099074</td>\n",
       "    </tr>\n",
       "    <tr>\n",
       "      <th>10003145</th>\n",
       "      <td>4056</td>\n",
       "      <td>0.040464</td>\n",
       "    </tr>\n",
       "    <tr>\n",
       "      <th>10003006</th>\n",
       "      <td>3849</td>\n",
       "      <td>0.038399</td>\n",
       "    </tr>\n",
       "    <tr>\n",
       "      <th>10003011</th>\n",
       "      <td>2518</td>\n",
       "      <td>0.025120</td>\n",
       "    </tr>\n",
       "    <tr>\n",
       "      <th>10003131</th>\n",
       "      <td>2165</td>\n",
       "      <td>0.021599</td>\n",
       "    </tr>\n",
       "    <tr>\n",
       "      <th>10003056</th>\n",
       "      <td>911</td>\n",
       "      <td>0.009088</td>\n",
       "    </tr>\n",
       "    <tr>\n",
       "      <th>10003136</th>\n",
       "      <td>854</td>\n",
       "      <td>0.008520</td>\n",
       "    </tr>\n",
       "  </tbody>\n",
       "</table>\n",
       "</div>"
      ],
      "text/plain": [
       "          Anzahl  Prozent_von_allen_Abos\n",
       "10003055   23910                0.238532\n",
       "10003002   23467                0.234113\n",
       "10003111   17600                0.175582\n",
       "10003112    9931                0.099074\n",
       "10003145    4056                0.040464\n",
       "10003006    3849                0.038399\n",
       "10003011    2518                0.025120\n",
       "10003131    2165                0.021599\n",
       "10003056     911                0.009088\n",
       "10003136     854                0.008520"
      ]
     },
     "execution_count": 123,
     "metadata": {},
     "output_type": "execute_result"
    }
   ],
   "source": [
    "products_howoften = product_owner['Promotion_ID'].value_counts().to_frame()\n",
    "products_howoften.columns = ['Anzahl']\n",
    "products_howoften = products_howoften.assign( \n",
    "    Prozent_von_allen_Abos = product_owner['Promotion_ID'].value_counts()/product_owner.shape[0] )\n",
    "products_howoften.head(10)"
   ]
  },
  {
   "cell_type": "markdown",
   "metadata": {},
   "source": [
    "Known promotion IDs: \n",
    "    - 10003002 - WeltPlus\n",
    "    - 10003006 - WeltPremium\n",
    "    - 10003011 - WeltGold"
   ]
  },
  {
   "cell_type": "code",
   "execution_count": 118,
   "metadata": {},
   "outputs": [
    {
     "data": {
      "text/html": [
       "<div>\n",
       "<style scoped>\n",
       "    .dataframe tbody tr th:only-of-type {\n",
       "        vertical-align: middle;\n",
       "    }\n",
       "\n",
       "    .dataframe tbody tr th {\n",
       "        vertical-align: top;\n",
       "    }\n",
       "\n",
       "    .dataframe thead th {\n",
       "        text-align: right;\n",
       "    }\n",
       "</style>\n",
       "<table border=\"1\" class=\"dataframe\">\n",
       "  <thead>\n",
       "    <tr style=\"text-align: right;\">\n",
       "      <th></th>\n",
       "      <th>Anzahl</th>\n",
       "      <th>Prozent_von_allen_Abos</th>\n",
       "    </tr>\n",
       "  </thead>\n",
       "  <tbody>\n",
       "    <tr>\n",
       "      <th>10003002</th>\n",
       "      <td>23467</td>\n",
       "      <td>0.234113</td>\n",
       "    </tr>\n",
       "    <tr>\n",
       "      <th>10003006</th>\n",
       "      <td>3849</td>\n",
       "      <td>0.038399</td>\n",
       "    </tr>\n",
       "    <tr>\n",
       "      <th>10003011</th>\n",
       "      <td>2518</td>\n",
       "      <td>0.025120</td>\n",
       "    </tr>\n",
       "  </tbody>\n",
       "</table>\n",
       "</div>"
      ],
      "text/plain": [
       "          Anzahl  Prozent_von_allen_Abos\n",
       "10003002   23467                0.234113\n",
       "10003006    3849                0.038399\n",
       "10003011    2518                0.025120"
      ]
     },
     "execution_count": 118,
     "metadata": {},
     "output_type": "execute_result"
    }
   ],
   "source": [
    "products_howoften.loc[[10003002,10003006,10003011]]"
   ]
  },
  {
   "cell_type": "markdown",
   "metadata": {},
   "source": [
    "Weltplus spielt mit einem Anteil von 23% allen abgeschlossenen Abos eine große Rolle und liegt damit an zweiter Stelle, fast gleich auf mit der Promotion ID 10003055. WeltPremium hat einen Anteil von ca. 4% und WeltGold einen Anteil von 2.5% von allen Abos, werden also vergleichsweise wenig gebucht."
   ]
  },
  {
   "cell_type": "markdown",
   "metadata": {},
   "source": [
    "## Kündigungsstatus"
   ]
  },
  {
   "cell_type": "code",
   "execution_count": 11,
   "metadata": {},
   "outputs": [
    {
     "data": {
      "text/plain": [
       "Kuendigungsstatus\n",
       "gekuendigt      25985\n",
       "ungekuendigt    74253\n",
       "Name: KD SSO-ID, dtype: int64"
      ]
     },
     "execution_count": 11,
     "metadata": {},
     "output_type": "execute_result"
    }
   ],
   "source": [
    "product_owner.groupby('Kuendigungsstatus').count()['KD SSO-ID']"
   ]
  },
  {
   "cell_type": "code",
   "execution_count": 12,
   "metadata": {},
   "outputs": [
    {
     "data": {
      "text/plain": [
       "Promotion_ID\n",
       "10003002    13749\n",
       "10003145     2817\n",
       "10003006     2692\n",
       "10003011     1902\n",
       "10003136      833\n",
       "10003137      457\n",
       "10003069      307\n",
       "10003183      274\n",
       "10003098      252\n",
       "10003111      251\n",
       "Name: KD SSO-ID, dtype: int64"
      ]
     },
     "execution_count": 12,
     "metadata": {},
     "output_type": "execute_result"
    }
   ],
   "source": [
    "# Cancelled subscriptions ordered by Promotion_ID and occurence\n",
    "test=product_owner[product_owner['Kuendigungsstatus']== \n",
    "                   'gekuendigt'].groupby('Promotion_ID').count()['KD SSO-ID'].sort_values(ascending = False)\n",
    "test.head(10)"
   ]
  },
  {
   "cell_type": "markdown",
   "metadata": {},
   "source": [
    "Die häufigsten Kündigungen gibt es bei WeltPlus."
   ]
  },
  {
   "cell_type": "code",
   "execution_count": 13,
   "metadata": {},
   "outputs": [
    {
     "name": "stdout",
     "output_type": "stream",
     "text": [
      "Kuendingungsstatus bei WeltPlus\n",
      "Kuendigungsstatus\n",
      "gekuendigt      13749\n",
      "ungekuendigt     9718\n",
      "Name: KD SSO-ID, dtype: int64\n",
      "gekündigt (prozentual von allen WeltPlus-Abos)=  0.5858865641113052\n",
      "\n",
      "Kuendingungsstatus bei WeltPremium\n",
      "Kuendigungsstatus\n",
      "gekuendigt      2692\n",
      "ungekuendigt    1157\n",
      "Name: KD SSO-ID, dtype: int64\n",
      "gekündigt (prozentual von allen WeltPremium-Abos)=  0.6994024421927774\n",
      "\n",
      "Kuendingungsstatus bei WeltGold\n",
      "Kuendigungsstatus\n",
      "gekuendigt      1902\n",
      "ungekuendigt     616\n",
      "Name: KD SSO-ID, dtype: int64\n",
      "gekündigt (prozentual von allen WeltGold-Abos)=  0.7553613979348689\n"
     ]
    }
   ],
   "source": [
    "kund = product_owner[product_owner['Promotion_ID']==10003002].groupby('Kuendigungsstatus').count()['KD SSO-ID']\n",
    "print('Kuendingungsstatus bei WeltPlus')\n",
    "print(kund)\n",
    "print('gekündigt (prozentual von allen WeltPlus-Abos)= ', kund[0]/(kund[0]+kund[1]))\n",
    "print('')\n",
    "kund = product_owner[product_owner['Promotion_ID']==10003006].groupby('Kuendigungsstatus').count()['KD SSO-ID']\n",
    "print('Kuendingungsstatus bei WeltPremium')\n",
    "print(kund)\n",
    "print('gekündigt (prozentual von allen WeltPremium-Abos)= ', kund[0]/(kund[0]+kund[1]))\n",
    "print('')\n",
    "kund = product_owner[product_owner['Promotion_ID']==10003011].groupby('Kuendigungsstatus').count()['KD SSO-ID']\n",
    "print('Kuendingungsstatus bei WeltGold')\n",
    "print(kund)\n",
    "print('gekündigt (prozentual von allen WeltGold-Abos)= ', kund[0]/(kund[0]+kund[1]))"
   ]
  },
  {
   "cell_type": "markdown",
   "metadata": {},
   "source": [
    "Obwohl WeltPlus absolut die häufigsten Kündigungen erfährt, ist die **Kündigungsrate** für die höher preisigen Abos höher."
   ]
  },
  {
   "cell_type": "markdown",
   "metadata": {},
   "source": [
    "## Kündigungsgründe"
   ]
  },
  {
   "cell_type": "code",
   "execution_count": 10,
   "metadata": {},
   "outputs": [
    {
     "data": {
      "text/plain": [
       "<matplotlib.axes._subplots.AxesSubplot at 0x1a376627d68>"
      ]
     },
     "execution_count": 10,
     "metadata": {},
     "output_type": "execute_result"
    },
    {
     "data": {
      "image/png": "[encoded data removed]",
      "text/plain": [
       "<matplotlib.figure.Figure at 0x1a3766b18d0>"
      ]
     },
     "metadata": {},
     "output_type": "display_data"
    }
   ],
   "source": [
    "po_longSubs_cancReas_count = po_longSubs_canc.groupby(['Kuendigungsgrund','Promotion_ID'])['KD SSO-ID'].count()\n",
    "po_longSubs_promo = po_longSubs_canc.groupby('Promotion_ID')['KD SSO-ID'].count()\n",
    "po_longSubs_cancReas_perc = po_longSubs_cancReas_count.div(po_longSubs_promo, level='Promotion_ID')\n",
    "\n",
    "po_longSubs_cancReas_perc.unstack().plot(kind='bar', figsize=(20,10), title= \"Gründe für Kündigung in Prozent pro Länge des Vertrags\")"
   ]
  },
  {
   "cell_type": "markdown",
   "metadata": {},
   "source": [
    "Sehr ähnliche Verteilung der Kündigungsgründe bei den verschiedenen Abos. Ein wenig mehr bei WeltPlus - \"Gefällt nicht\", wenig mehr bei \"Nichtzahler\" bei den höherpreisigen Abos."
   ]
  },
  {
   "cell_type": "code",
   "execution_count": 15,
   "metadata": {},
   "outputs": [
    {
     "name": "stdout",
     "output_type": "stream",
     "text": [
      " Absolute Anzahl der obigen Darstellung\n"
     ]
    },
    {
     "data": {
      "text/plain": [
       "Promotion_ID  Kuendigungsgrund                          \n",
       "10003002      Doppelkauf                                     176\n",
       "              Falsche Erfassung/Auftragsanlage                 6\n",
       "              Finanzielle Gründe                             265\n",
       "              Gefällt nicht - redaktionell Artikelmenge      475\n",
       "              Gefällt nicht - redaktionell Qualität           33\n",
       "              Gefällt nicht- technisch                        20\n",
       "              KAW mit neuem Produkt / man. Downgrade           2\n",
       "              Keine Zeit                                      17\n",
       "              Kreditkartengültigkeit abgelaufen               97\n",
       "              Kunde kündigt, da er aktuell nicht nutzt        40\n",
       "              Kunde verstorben                                 5\n",
       "              Kündigung mit Vollerstattung                    27\n",
       "              Nichtzahler                                   1726\n",
       "              Ohne Angabe eines Grundes                     2801\n",
       "              Technische Fehler                               14\n",
       "              Wechsel zur Konkurrenz                           7\n",
       "              Widerruf                                        38\n",
       "              Wollte nur bestimmt Artikel lesen                1\n",
       "              Zu teuer                                        10\n",
       "10003006      Doppelkauf                                      54\n",
       "              Falsche Erfassung/Auftragsanlage                 1\n",
       "              Finanzielle Gründe                              64\n",
       "              Gefällt nicht - redaktionell Artikelmenge       53\n",
       "              Gefällt nicht - redaktionell Qualität            5\n",
       "              Gefällt nicht- technisch                         1\n",
       "              KAW mit neuem Produkt / man. Downgrade           3\n",
       "              Keine Zeit                                       3\n",
       "              Kreditkartengültigkeit abgelaufen               16\n",
       "              Kunde kündigt, da er aktuell nicht nutzt         2\n",
       "              Kunde verstorben                                 2\n",
       "              Kündigung mit Vollerstattung                     6\n",
       "              Nichtzahler                                    438\n",
       "              Ohne Angabe eines Grundes                      543\n",
       "              Technische Fehler                                7\n",
       "              Widerruf                                        10\n",
       "              Zu teuer                                         3\n",
       "10003011      Doppelkauf                                      39\n",
       "              Finanzielle Gründe                              32\n",
       "              Gefällt nicht - redaktionell Artikelmenge       23\n",
       "              Gefällt nicht - redaktionell Qualität            2\n",
       "              Gefällt nicht- technisch                         3\n",
       "              KAW mit neuem Produkt / man. Downgrade           4\n",
       "              Keine Zeit                                       5\n",
       "              Kreditkartengültigkeit abgelaufen                4\n",
       "              Kunde kündigt, da er aktuell nicht nutzt         5\n",
       "              Kündigung mit Vollerstattung                     2\n",
       "              Nichtzahler                                    335\n",
       "              Ohne Angabe eines Grundes                      275\n",
       "              Technische Fehler                                1\n",
       "              Wechsel zur Konkurrenz                           1\n",
       "              Widerruf                                         9\n",
       "Name: KD SSO-ID, dtype: int64"
      ]
     },
     "execution_count": 15,
     "metadata": {},
     "output_type": "execute_result"
    }
   ],
   "source": [
    "print(' Absolute Anzahl der obigen Darstellung')\n",
    "po_longSubs.groupby(['Promotion_ID','Kuendigungsgrund']).count()['KD SSO-ID']\n"
   ]
  },
  {
   "cell_type": "code",
   "execution_count": 5,
   "metadata": {},
   "outputs": [
    {
     "ename": "NameError",
     "evalue": "name 'po_longSubs_canc' is not defined",
     "output_type": "error",
     "traceback": [
      "\u001b[1;31m---------------------------------------------------------------------------\u001b[0m",
      "\u001b[1;31mNameError\u001b[0m                                 Traceback (most recent call last)",
      "\u001b[1;32m<ipython-input-5-0de159ce2661>\u001b[0m in \u001b[0;36m<module>\u001b[1;34m()\u001b[0m\n\u001b[1;32m----> 1\u001b[1;33m \u001b[0mpo_longSubs_cancReas_count\u001b[0m \u001b[1;33m=\u001b[0m \u001b[0mpo_longSubs_canc\u001b[0m\u001b[1;33m.\u001b[0m\u001b[0mgroupby\u001b[0m\u001b[1;33m(\u001b[0m\u001b[1;33m[\u001b[0m\u001b[1;34m'Kuendigungsgrund'\u001b[0m\u001b[1;33m,\u001b[0m\u001b[1;34m'Vertragslaenge_Gruppe'\u001b[0m\u001b[1;33m]\u001b[0m\u001b[1;33m)\u001b[0m\u001b[1;33m[\u001b[0m\u001b[1;34m'KD SSO-ID'\u001b[0m\u001b[1;33m]\u001b[0m\u001b[1;33m.\u001b[0m\u001b[0mcount\u001b[0m\u001b[1;33m(\u001b[0m\u001b[1;33m)\u001b[0m\u001b[1;33m\u001b[0m\u001b[0m\n\u001b[0m\u001b[0;32m      2\u001b[0m \u001b[0mpo_longSubs_promo\u001b[0m \u001b[1;33m=\u001b[0m \u001b[0mpo_longSubs_canc\u001b[0m\u001b[1;33m.\u001b[0m\u001b[0mgroupby\u001b[0m\u001b[1;33m(\u001b[0m\u001b[1;34m'Vertragslaenge_Gruppe'\u001b[0m\u001b[1;33m)\u001b[0m\u001b[1;33m[\u001b[0m\u001b[1;34m'KD SSO-ID'\u001b[0m\u001b[1;33m]\u001b[0m\u001b[1;33m.\u001b[0m\u001b[0mcount\u001b[0m\u001b[1;33m(\u001b[0m\u001b[1;33m)\u001b[0m\u001b[1;33m\u001b[0m\u001b[0m\n\u001b[0;32m      3\u001b[0m \u001b[0mpo_longSubs_cancReas_perc\u001b[0m \u001b[1;33m=\u001b[0m \u001b[0mpo_longSubs_cancReas_count\u001b[0m\u001b[1;33m.\u001b[0m\u001b[0mdiv\u001b[0m\u001b[1;33m(\u001b[0m\u001b[0mpo_longSubs_promo\u001b[0m\u001b[1;33m,\u001b[0m \u001b[0mlevel\u001b[0m\u001b[1;33m=\u001b[0m\u001b[1;34m'Vertragslaenge_Gruppe'\u001b[0m\u001b[1;33m)\u001b[0m\u001b[1;33m\u001b[0m\u001b[0m\n\u001b[0;32m      4\u001b[0m \u001b[1;33m\u001b[0m\u001b[0m\n\u001b[0;32m      5\u001b[0m \u001b[0mpo_longSubs_cancReas_perc\u001b[0m\u001b[1;33m.\u001b[0m\u001b[0munstack\u001b[0m\u001b[1;33m(\u001b[0m\u001b[1;33m)\u001b[0m\u001b[1;33m.\u001b[0m\u001b[0mplot\u001b[0m\u001b[1;33m(\u001b[0m\u001b[0mkind\u001b[0m\u001b[1;33m=\u001b[0m\u001b[1;34m'bar'\u001b[0m\u001b[1;33m,\u001b[0m \u001b[0mfigsize\u001b[0m\u001b[1;33m=\u001b[0m\u001b[1;33m(\u001b[0m\u001b[1;36m20\u001b[0m\u001b[1;33m,\u001b[0m\u001b[1;36m10\u001b[0m\u001b[1;33m)\u001b[0m\u001b[1;33m,\u001b[0m \u001b[0mtitle\u001b[0m\u001b[1;33m=\u001b[0m \u001b[1;34m\"Gründe für Kündigung in Prozent pro Länge des Vertrags\"\u001b[0m\u001b[1;33m)\u001b[0m\u001b[1;33m\u001b[0m\u001b[0m\n",
      "\u001b[1;31mNameError\u001b[0m: name 'po_longSubs_canc' is not defined"
     ]
    }
   ],
   "source": [
    "po_longSubs_cancReas_count = po_longSubs_canc.groupby(['Kuendigungsgrund','Vertragslaenge_Gruppe'])['KD SSO-ID'].count()\n",
    "po_longSubs_promo = po_longSubs_canc.groupby('Vertragslaenge_Gruppe')['KD SSO-ID'].count()\n",
    "po_longSubs_cancReas_perc = po_longSubs_cancReas_count.div(po_longSubs_promo, level='Vertragslaenge_Gruppe')\n",
    "\n",
    "po_longSubs_cancReas_perc.unstack().plot(kind='bar', figsize=(20,10), title= \"Gründe für Kündigung in Prozent pro Länge des Vertrags\")"
   ]
  },
  {
   "cell_type": "markdown",
   "metadata": {},
   "source": [
    "Ein Großteil der Abos werden nach 2 Monaten gekündigt mit dem Grund \"Nichtzahler\". Falsche Zahlungsdetails hinterlegt? \n",
    "\n",
    "Bei langfristigen Abos laufen die Kreditkarten ab."
   ]
  },
  {
   "cell_type": "code",
   "execution_count": 17,
   "metadata": {},
   "outputs": [
    {
     "name": "stdout",
     "output_type": "stream",
     "text": [
      "Absolute Anzahl der obigen Darstellung\n"
     ]
    },
    {
     "data": {
      "text/plain": [
       "Vertragslaenge_Gruppe  Kuendigungsgrund                          \n",
       "Gr1                    Doppelkauf                                     136\n",
       "                       Falsche Erfassung/Auftragsanlage                 4\n",
       "                       Finanzielle Gründe                             191\n",
       "                       Gefällt nicht - redaktionell Artikelmenge      308\n",
       "                       Gefällt nicht - redaktionell Qualität           19\n",
       "                       Gefällt nicht- technisch                        13\n",
       "                       KAW mit neuem Produkt / man. Downgrade           2\n",
       "                       Keine Zeit                                      12\n",
       "                       Kreditkartengültigkeit abgelaufen               14\n",
       "                       Kunde kündigt, da er aktuell nicht nutzt        26\n",
       "                       Kündigung mit Vollerstattung                     7\n",
       "                       Nichtzahler                                   1528\n",
       "                       Ohne Angabe eines Grundes                     1810\n",
       "                       Technische Fehler                                9\n",
       "                       Wechsel zur Konkurrenz                           5\n",
       "                       Widerruf                                        47\n",
       "                       Zu teuer                                         6\n",
       "Gr2                    Doppelkauf                                      85\n",
       "                       Falsche Erfassung/Auftragsanlage                 3\n",
       "                       Finanzielle Gründe                              88\n",
       "                       Gefällt nicht - redaktionell Artikelmenge      145\n",
       "                       Gefällt nicht - redaktionell Qualität           13\n",
       "                       Gefällt nicht- technisch                         6\n",
       "                       KAW mit neuem Produkt / man. Downgrade           1\n",
       "                       Keine Zeit                                       8\n",
       "                       Kreditkartengültigkeit abgelaufen               31\n",
       "                       Kunde kündigt, da er aktuell nicht nutzt         8\n",
       "                       Kunde verstorben                                 1\n",
       "                       Kündigung mit Vollerstattung                    15\n",
       "                       Nichtzahler                                    522\n",
       "                       Ohne Angabe eines Grundes                     1025\n",
       "                       Technische Fehler                                7\n",
       "                       Wechsel zur Konkurrenz                           3\n",
       "                       Widerruf                                         7\n",
       "                       Zu teuer                                         3\n",
       "Gr3                    Doppelkauf                                      48\n",
       "                       Finanzielle Gründe                              82\n",
       "                       Gefällt nicht - redaktionell Artikelmenge       98\n",
       "                       Gefällt nicht - redaktionell Qualität            8\n",
       "                       Gefällt nicht- technisch                         5\n",
       "                       KAW mit neuem Produkt / man. Downgrade           6\n",
       "                       Keine Zeit                                       5\n",
       "                       Kreditkartengültigkeit abgelaufen               72\n",
       "                       Kunde kündigt, da er aktuell nicht nutzt        13\n",
       "                       Kunde verstorben                                 6\n",
       "                       Kündigung mit Vollerstattung                    13\n",
       "                       Nichtzahler                                    449\n",
       "                       Ohne Angabe eines Grundes                      780\n",
       "                       Technische Fehler                                6\n",
       "                       Widerruf                                         3\n",
       "                       Wollte nur bestimmt Artikel lesen                1\n",
       "                       Zu teuer                                         4\n",
       "Name: KD SSO-ID, dtype: int64"
      ]
     },
     "execution_count": 17,
     "metadata": {},
     "output_type": "execute_result"
    }
   ],
   "source": [
    "print(\"Absolute Anzahl der obigen Darstellung\")\n",
    "po_longSubs_canc.groupby(['Vertragslaenge_Gruppe','Kuendigungsgrund']).count()['KD SSO-ID']"
   ]
  },
  {
   "cell_type": "markdown",
   "metadata": {},
   "source": [
    "## Kündigungstag + Product_owner"
   ]
  },
  {
   "cell_type": "code",
   "execution_count": 18,
   "metadata": {},
   "outputs": [
    {
     "data": {
      "text/plain": [
       "(100238, 18)"
      ]
     },
     "execution_count": 18,
     "metadata": {},
     "output_type": "execute_result"
    }
   ],
   "source": [
    "product_owner.shape"
   ]
  },
  {
   "cell_type": "code",
   "execution_count": 19,
   "metadata": {},
   "outputs": [
    {
     "data": {
      "text/plain": [
       "(25985, 18)"
      ]
     },
     "execution_count": 19,
     "metadata": {},
     "output_type": "execute_result"
    }
   ],
   "source": [
    "product_owner[product_owner['Kuendigungsstatus']=='gekuendigt'].shape"
   ]
  },
  {
   "cell_type": "code",
   "execution_count": 20,
   "metadata": {},
   "outputs": [
    {
     "data": {
      "text/plain": [
       "(26164, 21)"
      ]
     },
     "execution_count": 20,
     "metadata": {},
     "output_type": "execute_result"
    }
   ],
   "source": [
    "# merge product_owner with subscription cancellation by SSO-ID, VT Transcactions-ID to get date of cancellatioon\n",
    "product_owner_canc = pd.merge(product_owner, abo_canc, on=['KD SSO-ID', 'VT Transaction ID'])\n",
    "product_owner_canc.shape"
   ]
  },
  {
   "cell_type": "markdown",
   "metadata": {},
   "source": [
    "**TOASK:** \n",
    "\n",
    "Manche (105) VT Transaction ID+SSO-ID haben 2 (oder mehr) Kündigungsdaten? Unten stehen Beispiele."
   ]
  },
  {
   "cell_type": "raw",
   "metadata": {},
   "source": [
    "# export list for sharing\n",
    "pd.concat(g for _, g in po_longSubs.groupby('KD SSO-ID')  if len(g) > 1)\n",
    "prod_owner_canc_doubleKD_VT = pd.concat(g for _, g in product_owner_canc.groupby(['KD SSO-ID', 'VT Transaction ID']) if len(g)>1)\n",
    "prod_owner_canc_doubleKD_VT.to_excel('double_KD_VT-ID.xlsx')"
   ]
  },
  {
   "cell_type": "code",
   "execution_count": 21,
   "metadata": {},
   "outputs": [
    {
     "data": {
      "text/html": [
       "<div>\n",
       "<style scoped>\n",
       "    .dataframe tbody tr th:only-of-type {\n",
       "        vertical-align: middle;\n",
       "    }\n",
       "\n",
       "    .dataframe tbody tr th {\n",
       "        vertical-align: top;\n",
       "    }\n",
       "\n",
       "    .dataframe thead th {\n",
       "        text-align: right;\n",
       "    }\n",
       "</style>\n",
       "<table border=\"1\" class=\"dataframe\">\n",
       "  <thead>\n",
       "    <tr style=\"text-align: right;\">\n",
       "      <th></th>\n",
       "      <th>KD SSO-ID</th>\n",
       "      <th>VT Transaction ID</th>\n",
       "      <th>Verkaufsort</th>\n",
       "      <th>Vertragsstatus</th>\n",
       "      <th>Kuendigungsstatus</th>\n",
       "      <th>Kuendigungsgrund</th>\n",
       "      <th>Kuendigungsgrund_ID</th>\n",
       "      <th>Angebotsgruppe</th>\n",
       "      <th>Promotion_ID</th>\n",
       "      <th>Angebotsname</th>\n",
       "      <th>...</th>\n",
       "      <th>Trial_Kennzeichen</th>\n",
       "      <th>Laufzeit_Trial</th>\n",
       "      <th>Laufzeit</th>\n",
       "      <th>Vertragsphase</th>\n",
       "      <th>VB_Tag</th>\n",
       "      <th>VE_Tag</th>\n",
       "      <th>Lieferdauer</th>\n",
       "      <th>AN Promotion ID</th>\n",
       "      <th>K Tag</th>\n",
       "      <th>VT Kündigungsgrund</th>\n",
       "    </tr>\n",
       "  </thead>\n",
       "  <tbody>\n",
       "    <tr>\n",
       "      <th>36</th>\n",
       "      <td>ASAG1653447</td>\n",
       "      <td>aa1d80a7ba424584b734840eea463bb2</td>\n",
       "      <td>WONP</td>\n",
       "      <td>nicht aktiv</td>\n",
       "      <td>gekuendigt</td>\n",
       "      <td>Widerruf</td>\n",
       "      <td>6.0</td>\n",
       "      <td>WELTplus Premium</td>\n",
       "      <td>10003007</td>\n",
       "      <td>wb.pluspremium.1m.0.0.nop.b2c.-.-</td>\n",
       "      <td>...</td>\n",
       "      <td>ohne Trial</td>\n",
       "      <td>NaN</td>\n",
       "      <td>1.0</td>\n",
       "      <td>Vollabo</td>\n",
       "      <td>2017-01-08</td>\n",
       "      <td>2018-01-08</td>\n",
       "      <td>365</td>\n",
       "      <td>10003007</td>\n",
       "      <td>2017-07-20</td>\n",
       "      <td>Widerruf</td>\n",
       "    </tr>\n",
       "    <tr>\n",
       "      <th>37</th>\n",
       "      <td>ASAG1653447</td>\n",
       "      <td>aa1d80a7ba424584b734840eea463bb2</td>\n",
       "      <td>WONP</td>\n",
       "      <td>nicht aktiv</td>\n",
       "      <td>gekuendigt</td>\n",
       "      <td>Widerruf</td>\n",
       "      <td>6.0</td>\n",
       "      <td>WELTplus Premium</td>\n",
       "      <td>10003007</td>\n",
       "      <td>wb.pluspremium.1m.0.0.nop.b2c.-.-</td>\n",
       "      <td>...</td>\n",
       "      <td>ohne Trial</td>\n",
       "      <td>NaN</td>\n",
       "      <td>1.0</td>\n",
       "      <td>Vollabo</td>\n",
       "      <td>2017-01-08</td>\n",
       "      <td>2018-01-08</td>\n",
       "      <td>365</td>\n",
       "      <td>10003031</td>\n",
       "      <td>2017-07-09</td>\n",
       "      <td>Kündigung Print-Abo / Upselling</td>\n",
       "    </tr>\n",
       "  </tbody>\n",
       "</table>\n",
       "<p>2 rows × 21 columns</p>\n",
       "</div>"
      ],
      "text/plain": [
       "      KD SSO-ID                 VT Transaction ID Verkaufsort Vertragsstatus  \\\n",
       "36  ASAG1653447  aa1d80a7ba424584b734840eea463bb2        WONP    nicht aktiv   \n",
       "37  ASAG1653447  aa1d80a7ba424584b734840eea463bb2        WONP    nicht aktiv   \n",
       "\n",
       "   Kuendigungsstatus Kuendigungsgrund  Kuendigungsgrund_ID    Angebotsgruppe  \\\n",
       "36        gekuendigt        Widerruf                   6.0  WELTplus Premium   \n",
       "37        gekuendigt        Widerruf                   6.0  WELTplus Premium   \n",
       "\n",
       "    Promotion_ID                       Angebotsname  \\\n",
       "36      10003007  wb.pluspremium.1m.0.0.nop.b2c.-.-   \n",
       "37      10003007  wb.pluspremium.1m.0.0.nop.b2c.-.-   \n",
       "\n",
       "                  ...                Trial_Kennzeichen Laufzeit_Trial  \\\n",
       "36                ...                       ohne Trial            NaN   \n",
       "37                ...                       ohne Trial            NaN   \n",
       "\n",
       "    Laufzeit  Vertragsphase     VB_Tag     VE_Tag Lieferdauer  \\\n",
       "36       1.0        Vollabo 2017-01-08 2018-01-08         365   \n",
       "37       1.0        Vollabo 2017-01-08 2018-01-08         365   \n",
       "\n",
       "    AN Promotion ID      K Tag                VT Kündigungsgrund  \n",
       "36         10003007 2017-07-20                         Widerruf   \n",
       "37         10003031 2017-07-09  Kündigung Print-Abo / Upselling   \n",
       "\n",
       "[2 rows x 21 columns]"
      ]
     },
     "execution_count": 21,
     "metadata": {},
     "output_type": "execute_result"
    }
   ],
   "source": [
    "product_owner_canc[product_owner_canc.duplicated(['KD SSO-ID', 'VT Transaction ID'])].shape\n",
    "# subscription with 2 K Tag\n",
    "product_owner_canc[product_owner_canc['KD SSO-ID'] == 'ASAG1653447']"
   ]
  },
  {
   "cell_type": "code",
   "execution_count": 22,
   "metadata": {},
   "outputs": [
    {
     "data": {
      "text/html": [
       "<div>\n",
       "<style scoped>\n",
       "    .dataframe tbody tr th:only-of-type {\n",
       "        vertical-align: middle;\n",
       "    }\n",
       "\n",
       "    .dataframe tbody tr th {\n",
       "        vertical-align: top;\n",
       "    }\n",
       "\n",
       "    .dataframe thead th {\n",
       "        text-align: right;\n",
       "    }\n",
       "</style>\n",
       "<table border=\"1\" class=\"dataframe\">\n",
       "  <thead>\n",
       "    <tr style=\"text-align: right;\">\n",
       "      <th></th>\n",
       "      <th>KD SSO-ID</th>\n",
       "      <th>VT Transaction ID</th>\n",
       "      <th>Verkaufsort</th>\n",
       "      <th>Vertragsstatus</th>\n",
       "      <th>Kuendigungsstatus</th>\n",
       "      <th>Kuendigungsgrund</th>\n",
       "      <th>Kuendigungsgrund_ID</th>\n",
       "      <th>Angebotsgruppe</th>\n",
       "      <th>Promotion_ID</th>\n",
       "      <th>Angebotsname</th>\n",
       "      <th>...</th>\n",
       "      <th>Trial_Kennzeichen</th>\n",
       "      <th>Laufzeit_Trial</th>\n",
       "      <th>Laufzeit</th>\n",
       "      <th>Vertragsphase</th>\n",
       "      <th>VB_Tag</th>\n",
       "      <th>VE_Tag</th>\n",
       "      <th>Lieferdauer</th>\n",
       "      <th>AN Promotion ID</th>\n",
       "      <th>K Tag</th>\n",
       "      <th>VT Kündigungsgrund</th>\n",
       "    </tr>\n",
       "  </thead>\n",
       "  <tbody>\n",
       "    <tr>\n",
       "      <th>20799</th>\n",
       "      <td>ASAG8467292</td>\n",
       "      <td>315ec0853ab04cbdb572696276c30bc9</td>\n",
       "      <td>WONP</td>\n",
       "      <td>nicht aktiv</td>\n",
       "      <td>gekuendigt</td>\n",
       "      <td>Ohne Angabe eines Grundes</td>\n",
       "      <td>0.0</td>\n",
       "      <td>WELTplus</td>\n",
       "      <td>10003002</td>\n",
       "      <td>wb.plus.1m.1m.0.nop.b2c.-.-</td>\n",
       "      <td>...</td>\n",
       "      <td>kostenloser Trial</td>\n",
       "      <td>1.0</td>\n",
       "      <td>1.0</td>\n",
       "      <td>Vollabo</td>\n",
       "      <td>2017-11-21</td>\n",
       "      <td>2018-01-20</td>\n",
       "      <td>60</td>\n",
       "      <td>10003002</td>\n",
       "      <td>2018-01-10</td>\n",
       "      <td>~</td>\n",
       "    </tr>\n",
       "    <tr>\n",
       "      <th>20800</th>\n",
       "      <td>ASAG8467292</td>\n",
       "      <td>315ec0853ab04cbdb572696276c30bc9</td>\n",
       "      <td>WONP</td>\n",
       "      <td>nicht aktiv</td>\n",
       "      <td>gekuendigt</td>\n",
       "      <td>Ohne Angabe eines Grundes</td>\n",
       "      <td>0.0</td>\n",
       "      <td>WELTplus</td>\n",
       "      <td>10003002</td>\n",
       "      <td>wb.plus.1m.1m.0.nop.b2c.-.-</td>\n",
       "      <td>...</td>\n",
       "      <td>kostenloser Trial</td>\n",
       "      <td>1.0</td>\n",
       "      <td>1.0</td>\n",
       "      <td>Vollabo</td>\n",
       "      <td>2017-11-21</td>\n",
       "      <td>2018-01-20</td>\n",
       "      <td>60</td>\n",
       "      <td>10003002</td>\n",
       "      <td>2018-01-20</td>\n",
       "      <td>Ohne Angabe eines Grundes</td>\n",
       "    </tr>\n",
       "    <tr>\n",
       "      <th>20801</th>\n",
       "      <td>ASAG8467292</td>\n",
       "      <td>315ec0853ab04cbdb572696276c30bc9</td>\n",
       "      <td>WONP</td>\n",
       "      <td>nicht aktiv</td>\n",
       "      <td>ungekuendigt</td>\n",
       "      <td>NaN</td>\n",
       "      <td>NaN</td>\n",
       "      <td>WELTplus</td>\n",
       "      <td>10003002</td>\n",
       "      <td>wb.plus.1m.1m.0.nop.b2c.-.-</td>\n",
       "      <td>...</td>\n",
       "      <td>kostenloser Trial</td>\n",
       "      <td>1.0</td>\n",
       "      <td>1.0</td>\n",
       "      <td>Vollabo</td>\n",
       "      <td>2017-11-21</td>\n",
       "      <td>2018-01-20</td>\n",
       "      <td>140</td>\n",
       "      <td>10003002</td>\n",
       "      <td>2018-01-10</td>\n",
       "      <td>~</td>\n",
       "    </tr>\n",
       "    <tr>\n",
       "      <th>20802</th>\n",
       "      <td>ASAG8467292</td>\n",
       "      <td>315ec0853ab04cbdb572696276c30bc9</td>\n",
       "      <td>WONP</td>\n",
       "      <td>nicht aktiv</td>\n",
       "      <td>ungekuendigt</td>\n",
       "      <td>NaN</td>\n",
       "      <td>NaN</td>\n",
       "      <td>WELTplus</td>\n",
       "      <td>10003002</td>\n",
       "      <td>wb.plus.1m.1m.0.nop.b2c.-.-</td>\n",
       "      <td>...</td>\n",
       "      <td>kostenloser Trial</td>\n",
       "      <td>1.0</td>\n",
       "      <td>1.0</td>\n",
       "      <td>Vollabo</td>\n",
       "      <td>2017-11-21</td>\n",
       "      <td>2018-01-20</td>\n",
       "      <td>140</td>\n",
       "      <td>10003002</td>\n",
       "      <td>2018-01-20</td>\n",
       "      <td>Ohne Angabe eines Grundes</td>\n",
       "    </tr>\n",
       "  </tbody>\n",
       "</table>\n",
       "<p>4 rows × 21 columns</p>\n",
       "</div>"
      ],
      "text/plain": [
       "         KD SSO-ID                 VT Transaction ID Verkaufsort  \\\n",
       "20799  ASAG8467292  315ec0853ab04cbdb572696276c30bc9        WONP   \n",
       "20800  ASAG8467292  315ec0853ab04cbdb572696276c30bc9        WONP   \n",
       "20801  ASAG8467292  315ec0853ab04cbdb572696276c30bc9        WONP   \n",
       "20802  ASAG8467292  315ec0853ab04cbdb572696276c30bc9        WONP   \n",
       "\n",
       "      Vertragsstatus Kuendigungsstatus            Kuendigungsgrund  \\\n",
       "20799    nicht aktiv        gekuendigt  Ohne Angabe eines Grundes    \n",
       "20800    nicht aktiv        gekuendigt  Ohne Angabe eines Grundes    \n",
       "20801    nicht aktiv      ungekuendigt                         NaN   \n",
       "20802    nicht aktiv      ungekuendigt                         NaN   \n",
       "\n",
       "       Kuendigungsgrund_ID Angebotsgruppe  Promotion_ID  \\\n",
       "20799                  0.0       WELTplus      10003002   \n",
       "20800                  0.0       WELTplus      10003002   \n",
       "20801                  NaN       WELTplus      10003002   \n",
       "20802                  NaN       WELTplus      10003002   \n",
       "\n",
       "                      Angebotsname             ...              \\\n",
       "20799  wb.plus.1m.1m.0.nop.b2c.-.-             ...               \n",
       "20800  wb.plus.1m.1m.0.nop.b2c.-.-             ...               \n",
       "20801  wb.plus.1m.1m.0.nop.b2c.-.-             ...               \n",
       "20802  wb.plus.1m.1m.0.nop.b2c.-.-             ...               \n",
       "\n",
       "       Trial_Kennzeichen Laufzeit_Trial  Laufzeit  Vertragsphase     VB_Tag  \\\n",
       "20799  kostenloser Trial            1.0       1.0        Vollabo 2017-11-21   \n",
       "20800  kostenloser Trial            1.0       1.0        Vollabo 2017-11-21   \n",
       "20801  kostenloser Trial            1.0       1.0        Vollabo 2017-11-21   \n",
       "20802  kostenloser Trial            1.0       1.0        Vollabo 2017-11-21   \n",
       "\n",
       "          VE_Tag Lieferdauer  AN Promotion ID      K Tag  \\\n",
       "20799 2018-01-20          60         10003002 2018-01-10   \n",
       "20800 2018-01-20          60         10003002 2018-01-20   \n",
       "20801 2018-01-20         140         10003002 2018-01-10   \n",
       "20802 2018-01-20         140         10003002 2018-01-20   \n",
       "\n",
       "               VT Kündigungsgrund  \n",
       "20799                           ~  \n",
       "20800  Ohne Angabe eines Grundes   \n",
       "20801                           ~  \n",
       "20802  Ohne Angabe eines Grundes   \n",
       "\n",
       "[4 rows x 21 columns]"
      ]
     },
     "execution_count": 22,
     "metadata": {},
     "output_type": "execute_result"
    }
   ],
   "source": [
    "product_owner_canc[product_owner_canc['KD SSO-ID'] == 'ASAG8467292']"
   ]
  },
  {
   "cell_type": "code",
   "execution_count": 23,
   "metadata": {},
   "outputs": [
    {
     "data": {
      "text/html": [
       "<div>\n",
       "<style scoped>\n",
       "    .dataframe tbody tr th:only-of-type {\n",
       "        vertical-align: middle;\n",
       "    }\n",
       "\n",
       "    .dataframe tbody tr th {\n",
       "        vertical-align: top;\n",
       "    }\n",
       "\n",
       "    .dataframe thead th {\n",
       "        text-align: right;\n",
       "    }\n",
       "</style>\n",
       "<table border=\"1\" class=\"dataframe\">\n",
       "  <thead>\n",
       "    <tr style=\"text-align: right;\">\n",
       "      <th></th>\n",
       "      <th>KD SSO-ID</th>\n",
       "      <th>VT Transaction ID</th>\n",
       "      <th>Verkaufsort</th>\n",
       "      <th>Vertragsstatus</th>\n",
       "      <th>Kuendigungsstatus</th>\n",
       "      <th>Kuendigungsgrund</th>\n",
       "      <th>Kuendigungsgrund_ID</th>\n",
       "      <th>Angebotsgruppe</th>\n",
       "      <th>Promotion_ID</th>\n",
       "      <th>Angebotsname</th>\n",
       "      <th>...</th>\n",
       "      <th>Trial_Kennzeichen</th>\n",
       "      <th>Laufzeit_Trial</th>\n",
       "      <th>Laufzeit</th>\n",
       "      <th>Vertragsphase</th>\n",
       "      <th>VB_Tag</th>\n",
       "      <th>VE_Tag</th>\n",
       "      <th>Lieferdauer</th>\n",
       "      <th>AN Promotion ID</th>\n",
       "      <th>K Tag</th>\n",
       "      <th>VT Kündigungsgrund</th>\n",
       "    </tr>\n",
       "  </thead>\n",
       "  <tbody>\n",
       "    <tr>\n",
       "      <th>11242</th>\n",
       "      <td>ASAG7850824</td>\n",
       "      <td>d4cfecd88bea4b3aa3c790ee380b889c</td>\n",
       "      <td>WONP</td>\n",
       "      <td>aktiv</td>\n",
       "      <td>ungekuendigt</td>\n",
       "      <td>NaN</td>\n",
       "      <td>NaN</td>\n",
       "      <td>WELTplus Premium</td>\n",
       "      <td>10003024</td>\n",
       "      <td>wb.pluspremium.1m.0.0.nop.b2c.up.-</td>\n",
       "      <td>...</td>\n",
       "      <td>ohne Trial</td>\n",
       "      <td>NaN</td>\n",
       "      <td>1.0</td>\n",
       "      <td>Vollabo</td>\n",
       "      <td>2017-03-15</td>\n",
       "      <td>2018-04-29</td>\n",
       "      <td>391</td>\n",
       "      <td>10003007</td>\n",
       "      <td>2017-10-23</td>\n",
       "      <td>Doppelkauf</td>\n",
       "    </tr>\n",
       "    <tr>\n",
       "      <th>11243</th>\n",
       "      <td>ASAG7850824</td>\n",
       "      <td>d4cfecd88bea4b3aa3c790ee380b889c</td>\n",
       "      <td>WONP</td>\n",
       "      <td>aktiv</td>\n",
       "      <td>ungekuendigt</td>\n",
       "      <td>NaN</td>\n",
       "      <td>NaN</td>\n",
       "      <td>WELTplus Premium</td>\n",
       "      <td>10003024</td>\n",
       "      <td>wb.pluspremium.1m.0.0.nop.b2c.up.-</td>\n",
       "      <td>...</td>\n",
       "      <td>ohne Trial</td>\n",
       "      <td>NaN</td>\n",
       "      <td>1.0</td>\n",
       "      <td>Vollabo</td>\n",
       "      <td>2017-03-15</td>\n",
       "      <td>2018-04-29</td>\n",
       "      <td>391</td>\n",
       "      <td>10003024</td>\n",
       "      <td>2017-08-14</td>\n",
       "      <td>Kündigung Print-Abo / Upselling</td>\n",
       "    </tr>\n",
       "    <tr>\n",
       "      <th>11244</th>\n",
       "      <td>ASAG7850824</td>\n",
       "      <td>d4cfecd88bea4b3aa3c790ee380b889c</td>\n",
       "      <td>WONP</td>\n",
       "      <td>aktiv</td>\n",
       "      <td>ungekuendigt</td>\n",
       "      <td>NaN</td>\n",
       "      <td>NaN</td>\n",
       "      <td>WELTplus Premium</td>\n",
       "      <td>10003024</td>\n",
       "      <td>wb.pluspremium.1m.0.0.nop.b2c.up.-</td>\n",
       "      <td>...</td>\n",
       "      <td>ohne Trial</td>\n",
       "      <td>NaN</td>\n",
       "      <td>1.0</td>\n",
       "      <td>Vollabo</td>\n",
       "      <td>2017-03-15</td>\n",
       "      <td>2018-04-29</td>\n",
       "      <td>391</td>\n",
       "      <td>10003024</td>\n",
       "      <td>2017-09-05</td>\n",
       "      <td>Widerruf</td>\n",
       "    </tr>\n",
       "  </tbody>\n",
       "</table>\n",
       "<p>3 rows × 21 columns</p>\n",
       "</div>"
      ],
      "text/plain": [
       "         KD SSO-ID                 VT Transaction ID Verkaufsort  \\\n",
       "11242  ASAG7850824  d4cfecd88bea4b3aa3c790ee380b889c        WONP   \n",
       "11243  ASAG7850824  d4cfecd88bea4b3aa3c790ee380b889c        WONP   \n",
       "11244  ASAG7850824  d4cfecd88bea4b3aa3c790ee380b889c        WONP   \n",
       "\n",
       "      Vertragsstatus Kuendigungsstatus Kuendigungsgrund  Kuendigungsgrund_ID  \\\n",
       "11242          aktiv      ungekuendigt              NaN                  NaN   \n",
       "11243          aktiv      ungekuendigt              NaN                  NaN   \n",
       "11244          aktiv      ungekuendigt              NaN                  NaN   \n",
       "\n",
       "         Angebotsgruppe  Promotion_ID                        Angebotsname  \\\n",
       "11242  WELTplus Premium      10003024  wb.pluspremium.1m.0.0.nop.b2c.up.-   \n",
       "11243  WELTplus Premium      10003024  wb.pluspremium.1m.0.0.nop.b2c.up.-   \n",
       "11244  WELTplus Premium      10003024  wb.pluspremium.1m.0.0.nop.b2c.up.-   \n",
       "\n",
       "                     ...                Trial_Kennzeichen Laufzeit_Trial  \\\n",
       "11242                ...                       ohne Trial            NaN   \n",
       "11243                ...                       ohne Trial            NaN   \n",
       "11244                ...                       ohne Trial            NaN   \n",
       "\n",
       "       Laufzeit  Vertragsphase     VB_Tag     VE_Tag Lieferdauer  \\\n",
       "11242       1.0        Vollabo 2017-03-15 2018-04-29         391   \n",
       "11243       1.0        Vollabo 2017-03-15 2018-04-29         391   \n",
       "11244       1.0        Vollabo 2017-03-15 2018-04-29         391   \n",
       "\n",
       "       AN Promotion ID      K Tag                VT Kündigungsgrund  \n",
       "11242         10003007 2017-10-23                       Doppelkauf   \n",
       "11243         10003024 2017-08-14  Kündigung Print-Abo / Upselling   \n",
       "11244         10003024 2017-09-05                         Widerruf   \n",
       "\n",
       "[3 rows x 21 columns]"
      ]
     },
     "execution_count": 23,
     "metadata": {},
     "output_type": "execute_result"
    }
   ],
   "source": [
    "product_owner_canc[product_owner_canc['KD SSO-ID'] == 'ASAG7850824']"
   ]
  },
  {
   "cell_type": "code",
   "execution_count": 22,
   "metadata": {},
   "outputs": [
    {
     "data": {
      "text/plain": [
       "KD SSO-ID    VT Transaction ID               \n",
       "ASAG7129021  f64b11d2b62b41d58757186e08ec85f4    3\n",
       "ASAG7850824  d4cfecd88bea4b3aa3c790ee380b889c    3\n",
       "ASAG8467292  315ec0853ab04cbdb572696276c30bc9    4\n",
       "ASAG8467966  ed849c7f80c74ef7bc01ad9157be63d3    4\n",
       "ASAG8469316  42b819ece4464146b287f3c3d0635aab    4\n",
       "Name: Kuendigungsstatus, dtype: int64"
      ]
     },
     "execution_count": 22,
     "metadata": {},
     "output_type": "execute_result"
    }
   ],
   "source": [
    "test = product_owner_canc.groupby(['KD SSO-ID', 'VT Transaction ID']).count()['Kuendigungsstatus']\n",
    "test[test>2]"
   ]
  },
  {
   "cell_type": "markdown",
   "metadata": {},
   "source": [
    "## Newsletter"
   ]
  },
  {
   "cell_type": "markdown",
   "metadata": {},
   "source": [
    "Fällt Kündigungsdatum mit Newsletterabbestellung zusammen? Gucken wir uns doch mal den Zeitabstand zwischen letzter Newsletter-Abbestellung und Kündigunsdatum an."
   ]
  },
  {
   "cell_type": "code",
   "execution_count": 68,
   "metadata": {},
   "outputs": [],
   "source": [
    "# find date of last newsletter cancellation\n",
    "newsl_canc = newsl.groupby('SSO ID')['Abmeldedatum'].agg('max').to_frame()\n",
    "first_newsl_canc = newsl.groupby('SSO ID')['Abmeldedatum'].agg('min').to_frame()\n",
    "newsl_canc = pd.merge(first_newsl_canc, newsl_canc, right_index=True, left_index=True)\n",
    "newsl_canc.columns = ['first_newsl_canc_date','last_newsl_canc_date']\n",
    "newsl_canc['KD SSO-ID'] = newsl_canc.index\n",
    "#newsl_canc.head()"
   ]
  },
  {
   "cell_type": "code",
   "execution_count": 69,
   "metadata": {},
   "outputs": [
    {
     "data": {
      "text/plain": [
       "(476, 23)"
      ]
     },
     "execution_count": 69,
     "metadata": {},
     "output_type": "execute_result"
    }
   ],
   "source": [
    "# merge product_owner with last newsletter cancellation on SSO-ID = product owner with newsletter subscription\n",
    "product_owner_w_newsl = pd.merge(product_owner_canc, newsl_canc, on = 'KD SSO-ID')\n",
    "product_owner_w_newsl.shape"
   ]
  },
  {
   "cell_type": "markdown",
   "metadata": {},
   "source": [
    "Product owner mit Newsletter cancellation sind DEUTLICH weniger Kunden. Es gibt nur 479 Abonenten (unabhängig welches Abo) mit Newsletter-Kündigung."
   ]
  },
  {
   "cell_type": "code",
   "execution_count": 70,
   "metadata": {},
   "outputs": [
    {
     "data": {
      "text/plain": [
       "[Text(0.5,0,'Tag_Abokündigung - Tag_Newsletterkündigung in Tagen')]"
      ]
     },
     "execution_count": 70,
     "metadata": {},
     "output_type": "execute_result"
    },
    {
     "data": {
      "image/png": "[encoded data removed]",
      "text/plain": [
       "<matplotlib.figure.Figure at 0x1bc1c1f5358>"
      ]
     },
     "metadata": {},
     "output_type": "display_data"
    }
   ],
   "source": [
    "# time difference between last newsletter cancellation and subscription cancellation?\n",
    "product_owner_w_newsl['diff_canc_subs_and_newsl'] = \\\n",
    "(product_owner_w_newsl['K Tag'] - product_owner_w_newsl['last_newsl_canc_date']) / np.timedelta64(1, 'D')\n",
    "pt = product_owner_w_newsl['diff_canc_subs_and_newsl'].hist()\n",
    "pt.set(xlabel=\"Tag_Abokündigung - Tag_Newsletterkündigung in Tagen\")"
   ]
  },
  {
   "cell_type": "code",
   "execution_count": 71,
   "metadata": {},
   "outputs": [
    {
     "data": {
      "text/plain": [
       "[Text(0.5,0,\"Tag_Abokündigung - Tag_Newsletterkündigung in Tagen \\n mit Vertragsstatus 'Vollabo'\"),\n",
       " Text(0.5,1,'Nur WeltPlus, WeltPremium, WeltGold')]"
      ]
     },
     "execution_count": 71,
     "metadata": {},
     "output_type": "execute_result"
    },
    {
     "data": {
      "image/png": "[encoded data removed]",
      "text/plain": [
       "<matplotlib.figure.Figure at 0x1bc1fc60358>"
      ]
     },
     "metadata": {},
     "output_type": "display_data"
    }
   ],
   "source": [
    "pt_df = product_owner_w_newsl[((product_owner_w_newsl['Promotion_ID']==10003002) & (product_owner_w_newsl['Vertragsphase']=='Vollabo')) | \n",
    "                           ((product_owner_w_newsl['Promotion_ID']==10003006) & (product_owner_w_newsl['Vertragsphase']=='Vollabo')) | \n",
    "                           ((product_owner_w_newsl['Promotion_ID']==10003011) & (product_owner_w_newsl['Vertragsphase']=='Vollabo'))  ]['diff_canc_subs_and_newsl']\n",
    "pt = pt_df.hist()\n",
    "pt.set(title = 'Nur WeltPlus, WeltPremium, WeltGold', xlabel=\"Tag_Abokündigung - Tag_Newsletterkündigung in Tagen \\n mit Vertragsstatus 'Vollabo'\")"
   ]
  },
  {
   "cell_type": "code",
   "execution_count": 72,
   "metadata": {},
   "outputs": [
    {
     "data": {
      "text/plain": [
       "(110,)"
      ]
     },
     "execution_count": 72,
     "metadata": {},
     "output_type": "execute_result"
    }
   ],
   "source": [
    "pt_df.shape"
   ]
  },
  {
   "cell_type": "markdown",
   "metadata": {},
   "source": [
    "Tatsächlich werden Newsletter oft im Zeitraum der Abo-Kündigung gekündigt, eher jedoch kurz **nach** der Abo-Kündigung (negative Zahlen). Zudem ist die Verteilung sehr groß und nur wenige Abo-Inhaber mit VollAbo (110) haben überhaupt einen Newsletter abonniert. Damit ist die Newsletter-Küdingung kein guter Predictor für Abo-Kündigung."
   ]
  },
  {
   "cell_type": "markdown",
   "metadata": {},
   "source": [
    "## Wie lang nutzen Kunden Abos?"
   ]
  },
  {
   "cell_type": "markdown",
   "metadata": {},
   "source": [
    "Es gibt 3 Zeiträume:\n",
    " - Vertragsbeginn - Kündigung (Variablen: VB_Tag, K Tag)\n",
    " - Vertragsbeginn - Vertragsende (VB_Tag, VE_Tag)\n",
    " - Laufzeit (in Monaten)"
   ]
  },
  {
   "cell_type": "code",
   "execution_count": 73,
   "metadata": {},
   "outputs": [],
   "source": [
    "product_owner_canc['K_-VA'] = (product_owner_canc['K Tag'] - product_owner_canc['VB_Tag']) / np.timedelta64(1, 'D')\n",
    "product_owner_canc['VE_-VA'] = (product_owner_canc['VE_Tag'] - product_owner_canc['VB_Tag']) / np.timedelta64(1, 'D')"
   ]
  },
  {
   "cell_type": "code",
   "execution_count": 74,
   "metadata": {},
   "outputs": [],
   "source": [
    "po_longSubs = product_owner_canc.loc[((product_owner_canc['Promotion_ID']==10003002) & (product_owner_canc['Vertragsphase']=='Vollabo')) | \n",
    "                           ((product_owner_canc['Promotion_ID']==10003006) & (product_owner_canc['Vertragsphase']=='Vollabo')) | \n",
    "                           ((product_owner_canc['Promotion_ID']==10003011)& (product_owner_canc['Vertragsphase']=='Vollabo')) ].copy()"
   ]
  },
  {
   "cell_type": "code",
   "execution_count": 75,
   "metadata": {},
   "outputs": [
    {
     "data": {
      "image/png": "[encoded data removed]",
      "text/plain": [
       "<matplotlib.figure.Figure at 0x1bc1fed7198>"
      ]
     },
     "metadata": {},
     "output_type": "display_data"
    }
   ],
   "source": [
    "pl = po_longSubs['K_-VA'].hist(by=po_longSubs['Promotion_ID'], layout=(1,3), figsize =(15,5), bins=20)"
   ]
  },
  {
   "cell_type": "code",
   "execution_count": 76,
   "metadata": {},
   "outputs": [
    {
     "data": {
      "text/html": [
       "<div>\n",
       "<style scoped>\n",
       "    .dataframe tbody tr th:only-of-type {\n",
       "        vertical-align: middle;\n",
       "    }\n",
       "\n",
       "    .dataframe tbody tr th {\n",
       "        vertical-align: top;\n",
       "    }\n",
       "\n",
       "    .dataframe thead th {\n",
       "        text-align: right;\n",
       "    }\n",
       "</style>\n",
       "<table border=\"1\" class=\"dataframe\">\n",
       "  <thead>\n",
       "    <tr style=\"text-align: right;\">\n",
       "      <th></th>\n",
       "      <th>count</th>\n",
       "      <th>mean</th>\n",
       "      <th>std</th>\n",
       "      <th>min</th>\n",
       "      <th>25%</th>\n",
       "      <th>50%</th>\n",
       "      <th>75%</th>\n",
       "      <th>max</th>\n",
       "    </tr>\n",
       "    <tr>\n",
       "      <th>Promotion_ID</th>\n",
       "      <th></th>\n",
       "      <th></th>\n",
       "      <th></th>\n",
       "      <th></th>\n",
       "      <th></th>\n",
       "      <th></th>\n",
       "      <th></th>\n",
       "      <th></th>\n",
       "    </tr>\n",
       "  </thead>\n",
       "  <tbody>\n",
       "    <tr>\n",
       "      <th>10003002</th>\n",
       "      <td>5793.0</td>\n",
       "      <td>86.171241</td>\n",
       "      <td>71.388290</td>\n",
       "      <td>-2.0</td>\n",
       "      <td>39.0</td>\n",
       "      <td>55.0</td>\n",
       "      <td>105.0</td>\n",
       "      <td>448.0</td>\n",
       "    </tr>\n",
       "    <tr>\n",
       "      <th>10003006</th>\n",
       "      <td>1216.0</td>\n",
       "      <td>86.770559</td>\n",
       "      <td>69.615126</td>\n",
       "      <td>26.0</td>\n",
       "      <td>42.0</td>\n",
       "      <td>54.0</td>\n",
       "      <td>108.0</td>\n",
       "      <td>407.0</td>\n",
       "    </tr>\n",
       "    <tr>\n",
       "      <th>10003011</th>\n",
       "      <td>740.0</td>\n",
       "      <td>69.950000</td>\n",
       "      <td>59.913257</td>\n",
       "      <td>19.0</td>\n",
       "      <td>40.0</td>\n",
       "      <td>47.0</td>\n",
       "      <td>70.0</td>\n",
       "      <td>421.0</td>\n",
       "    </tr>\n",
       "  </tbody>\n",
       "</table>\n",
       "</div>"
      ],
      "text/plain": [
       "               count       mean        std   min   25%   50%    75%    max\n",
       "Promotion_ID                                                              \n",
       "10003002      5793.0  86.171241  71.388290  -2.0  39.0  55.0  105.0  448.0\n",
       "10003006      1216.0  86.770559  69.615126  26.0  42.0  54.0  108.0  407.0\n",
       "10003011       740.0  69.950000  59.913257  19.0  40.0  47.0   70.0  421.0"
      ]
     },
     "execution_count": 76,
     "metadata": {},
     "output_type": "execute_result"
    }
   ],
   "source": [
    "po_longSubs.groupby('Promotion_ID')['K_-VA'].describe()"
   ]
  },
  {
   "cell_type": "markdown",
   "metadata": {},
   "source": [
    "Es scheint keinen eindeutigen Trend zu geben. Es gibt bei Plus und Premium eher Kunden, die das Abo lange haben - im Vergleich zu Gold."
   ]
  },
  {
   "cell_type": "markdown",
   "metadata": {},
   "source": [
    "**Alle Abos**"
   ]
  },
  {
   "cell_type": "code",
   "execution_count": 77,
   "metadata": {},
   "outputs": [
    {
     "data": {
      "text/plain": [
       "<matplotlib.axes._subplots.AxesSubplot at 0x1bc1fe28278>"
      ]
     },
     "execution_count": 77,
     "metadata": {},
     "output_type": "execute_result"
    },
    {
     "data": {
      "image/png": "[encoded data removed]",
      "text/plain": [
       "<matplotlib.figure.Figure at 0x1bc1b574ef0>"
      ]
     },
     "metadata": {},
     "output_type": "display_data"
    }
   ],
   "source": [
    "product_owner_canc['K_-VA'].hist()"
   ]
  },
  {
   "cell_type": "code",
   "execution_count": 78,
   "metadata": {},
   "outputs": [
    {
     "data": {
      "text/plain": [
       "count    26059.000000\n",
       "mean        51.951571\n",
       "std         73.911850\n",
       "min         -2.000000\n",
       "25%          5.000000\n",
       "50%         24.000000\n",
       "75%         61.000000\n",
       "max        448.000000\n",
       "Name: K_-VA, dtype: float64"
      ]
     },
     "execution_count": 78,
     "metadata": {},
     "output_type": "execute_result"
    }
   ],
   "source": [
    "product_owner_canc['K_-VA'].describe()"
   ]
  },
  {
   "cell_type": "markdown",
   "metadata": {},
   "source": [
    "## Gibt es viele Kandidaten, die vom teuren auf ein günstigeres Produkt gewechselt sind?"
   ]
  },
  {
   "cell_type": "code",
   "execution_count": 79,
   "metadata": {},
   "outputs": [
    {
     "data": {
      "text/plain": [
       "(766, 23)"
      ]
     },
     "execution_count": 79,
     "metadata": {},
     "output_type": "execute_result"
    }
   ],
   "source": [
    "# all SSO-ID with several subscriptions of WeltPlus, WeltPremium and WeltGold\n",
    "doublelongSub = pd.concat(g for _, g in po_longSubs.groupby('KD SSO-ID')  if len(g) > 1) \n",
    "doublelongSub.shape"
   ]
  },
  {
   "cell_type": "code",
   "execution_count": 198,
   "metadata": {},
   "outputs": [
    {
     "data": {
      "text/plain": [
       "(326,)"
      ]
     },
     "execution_count": 198,
     "metadata": {},
     "output_type": "execute_result"
    }
   ],
   "source": [
    "# unique SSO-IDs with multiple subscriptions of WeltPlus & Co.\n",
    "doublelongSub['KD SSO-ID'].unique().shape"
   ]
  },
  {
   "cell_type": "code",
   "execution_count": 201,
   "metadata": {},
   "outputs": [
    {
     "data": {
      "text/plain": [
       "75"
      ]
     },
     "execution_count": 201,
     "metadata": {},
     "output_type": "execute_result"
    }
   ],
   "source": [
    "# unique SSO-IDs with different subscriptions\n",
    "np.sum(doublelongSub.groupby('KD SSO-ID')['Promotion_ID'].nunique()>1)"
   ]
  },
  {
   "cell_type": "markdown",
   "metadata": {},
   "source": [
    "Es gibt 326 Kunden, die mehr als ein VollAbo haben/hatten. Davon haben aber nur 75 ein Abo unterschiedlicher Art. Es scheint also kein übliches Muster zu sein vom teuren zum günstigeren Abo zu wechseln."
   ]
  }
 ],
 "metadata": {
  "kernelspec": {
   "display_name": "Python 3",
   "language": "python",
   "name": "python3"
  },
  "language_info": {
   "codemirror_mode": {
    "name": "ipython",
    "version": 3
   },
   "file_extension": ".py",
   "mimetype": "text/x-python",
   "name": "python",
   "nbconvert_exporter": "python",
   "pygments_lexer": "ipython3",
   "version": "3.6.5"
  }
 },
 "nbformat": 4,
 "nbformat_minor": 2
}
