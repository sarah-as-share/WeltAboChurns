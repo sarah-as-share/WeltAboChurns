{
 "cells": [
  {
   "cell_type": "markdown",
   "metadata": {},
   "source": [
    "## Intro\n",
    "Notebook extracts feautures. Different cases are possible:\n",
    "1. * absolute values of Page Impressions/Visits... or absolute values of visits and normalized values of PI etc. by visits  \n",
    "   * rank-based (median, dif btw max & min), Gaussian-based (median, stdv) description of PI/V...\n",
    "2. same as 1. + last behavior on website (difference compared to mean/median behaviour)\n",
    "3. same as 2., but only subset of all features (no VDesktop, VMobile etc.)"
   ]
  },
  {
   "cell_type": "markdown",
   "metadata": {},
   "source": [
    "### Preparation"
   ]
  },
  {
   "cell_type": "code",
   "execution_count": 4,
   "metadata": {},
   "outputs": [
    {
     "name": "stdout",
     "output_type": "stream",
     "text": [
      "Populating the interactive namespace from numpy and matplotlib\n"
     ]
    }
   ],
   "source": [
    "import pandas as pd\n",
    "%pylab inline\n"
   ]
  },
  {
   "cell_type": "code",
   "execution_count": 21,
   "metadata": {},
   "outputs": [],
   "source": [
    "## set flags for whole notebook\n",
    "wLastUserBehavior = True\n",
    "reducedFeatures = True"
   ]
  },
  {
   "cell_type": "markdown",
   "metadata": {},
   "source": [
    "### Import Data"
   ]
  },
  {
   "cell_type": "code",
   "execution_count": 5,
   "metadata": {},
   "outputs": [],
   "source": [
    "# user behavior\n",
    "if wLastUserBehavior: \n",
    "    dat = pd.read_pickle('PIV_angereichert_metrics_wLastUserBehav')\n",
    "else:\n",
    "    dat = pd.read_pickle('PIV_angereichert_metrics')\n",
    "dat.index.rename('idx', inplace=True)"
   ]
  },
  {
   "cell_type": "code",
   "execution_count": 7,
   "metadata": {},
   "outputs": [],
   "source": [
    "# Newsletter\n",
    "dateparse = lambda x: pd.datetime.strptime(x, '%d.%m.%Y')\n",
    "newsl_anmeld = pd.read_csv('../data/eCRM_SSOID_NL_Anmeldung.csv', sep=';', date_parser=dateparse, parse_dates=['Anmeldedatum'])\n",
    "newsl_abmeld = pd.read_csv('../data/eCRM_SSOID_NL_Abmeldung.csv', sep=';', date_parser=dateparse, parse_dates=['Abmeldedatum'])\n",
    "# An- und Abmeldedatum in einem\n",
    "newsl = pd.merge(newsl_anmeld, newsl_abmeld, on=['SSO ID', 'Newsletter mit Klartext'])"
   ]
  },
  {
   "cell_type": "code",
   "execution_count": 8,
   "metadata": {},
   "outputs": [
    {
     "name": "stdout",
     "output_type": "stream",
     "text": [
      "0\n"
     ]
    }
   ],
   "source": [
    "#### neglect newsletter, where Anmeldedatum is after K Tag, since no influence on cancellation\n",
    "## there is no occurence of this case\n",
    "newsl = pd.merge(newsl, dat[['WT SSOID', 'K Tag']], how='left', left_on='SSO ID', right_on='WT SSOID')\n",
    "print(sum((newsl['Anmeldedatum']-newsl['K Tag']).notna() & (newsl['Anmeldedatum']-newsl['K Tag'])<0))\n",
    "newsl.drop(columns='K Tag', inplace=True)"
   ]
  },
  {
   "cell_type": "markdown",
   "metadata": {},
   "source": [
    "### New Columns"
   ]
  },
  {
   "cell_type": "markdown",
   "metadata": {},
   "source": [
    "#### Integrate newsletter data"
   ]
  },
  {
   "cell_type": "code",
   "execution_count": 9,
   "metadata": {},
   "outputs": [],
   "source": [
    "nl_woDup = newsl.drop_duplicates(subset='SSO ID')\n",
    "datnl=dat.merge(nl_woDup,how='left',left_on='WT SSOID', right_on='SSO ID')\n",
    "\n",
    "# rename column and transorm column into 0s and 1s (has/does not have a newsletter)\n",
    "datnl.rename(columns={'SSO ID':'Newsletter'}, inplace=True)\n",
    "\n",
    "datnl.loc[datnl['Newsletter'].notna(),'Newsletter'] = 1\n",
    "datnl.loc[datnl['Newsletter'].isna(),'Newsletter'] = 0"
   ]
  },
  {
   "cell_type": "markdown",
   "metadata": {},
   "source": [
    "#### Vertragslaenge"
   ]
  },
  {
   "cell_type": "code",
   "execution_count": 10,
   "metadata": {},
   "outputs": [],
   "source": [
    "datnl['Vertragslaenge'] = 0\n",
    "datnl.loc[datnl['Kuendigungsstatus'] == 'gekuendigt', 'Vertragslaenge'] = round((datnl['K Tag']-datnl['VB Tag'])/np.timedelta64(1,'D'))\n",
    "datnl.loc[datnl['Kuendigungsstatus'] == 'ungekuendigt', 'Vertragslaenge'] = round((datnl['VE Tag']-datnl['VB Tag'])/np.timedelta64(1,'D'))"
   ]
  },
  {
   "cell_type": "markdown",
   "metadata": {},
   "source": [
    "#### Fill NaN"
   ]
  },
  {
   "cell_type": "code",
   "execution_count": 11,
   "metadata": {},
   "outputs": [],
   "source": [
    "datnl.fillna(0,inplace=True)"
   ]
  },
  {
   "cell_type": "markdown",
   "metadata": {},
   "source": [
    "## Make subgroups"
   ]
  },
  {
   "cell_type": "markdown",
   "metadata": {},
   "source": [
    "##### Long vs. Short term-contracts"
   ]
  },
  {
   "cell_type": "markdown",
   "metadata": {},
   "source": [
    "Split data set in long-term and short-term contracts (contractlength longer or shorter than 95 days)"
   ]
  },
  {
   "cell_type": "code",
   "execution_count": 17,
   "metadata": {},
   "outputs": [],
   "source": [
    "datshort = datnl.loc[datnl['Vertragslaenge']<=95]\n",
    "datlong = datnl.loc[datnl['Vertragslaenge']>95]"
   ]
  },
  {
   "cell_type": "markdown",
   "metadata": {},
   "source": [
    "### Some insights"
   ]
  },
  {
   "cell_type": "code",
   "execution_count": 13,
   "metadata": {},
   "outputs": [
    {
     "data": {
      "text/plain": [
       "Newsletter  Kuendigungsstatus\n",
       "0           gekuendigt           1299\n",
       "            ungekuendigt         1020\n",
       "1           gekuendigt             21\n",
       "            ungekuendigt           19\n",
       "dtype: int64"
      ]
     },
     "execution_count": 13,
     "metadata": {},
     "output_type": "execute_result"
    }
   ],
   "source": [
    "datshort.groupby(['Newsletter','Kuendigungsstatus']).size()"
   ]
  },
  {
   "cell_type": "code",
   "execution_count": 12,
   "metadata": {},
   "outputs": [
    {
     "data": {
      "text/plain": [
       "(1.1522408963585433, 0.7485121862200221)"
      ]
     },
     "execution_count": 12,
     "metadata": {},
     "output_type": "execute_result"
    }
   ],
   "source": [
    "from scipy.stats import fisher_exact\n",
    "fisher_exact([[1299,1020],[21,19]])\n",
    "    "
   ]
  },
  {
   "cell_type": "code",
   "execution_count": 14,
   "metadata": {},
   "outputs": [
    {
     "data": {
      "text/plain": [
       "<matplotlib.axes._subplots.AxesSubplot at 0x107efa4e0>"
      ]
     },
     "execution_count": 14,
     "metadata": {},
     "output_type": "execute_result"
    },
    {
     "data": {
      "image/png": "[encoded data removed]",
      "text/plain": [
       "<Figure size 432x288 with 1 Axes>"
      ]
     },
     "metadata": {},
     "output_type": "display_data"
    }
   ],
   "source": [
    "datnl.Vertragslaenge.hist(bins=100)"
   ]
  },
  {
   "cell_type": "markdown",
   "metadata": {},
   "source": [
    "##### Exclude Sleepers"
   ]
  },
  {
   "cell_type": "markdown",
   "metadata": {},
   "source": [
    "For longterm contracts the prediction is very bad. Maybe it helps to exclude 'Sleepers', i.e. people who have forgotten about their subscription and therefor no activity in the last 4 weeks.\n",
    "\n",
    "Result: Recall becomes even worse when excluding sleepers. :("
   ]
  },
  {
   "cell_type": "code",
   "execution_count": 15,
   "metadata": {},
   "outputs": [],
   "source": [
    "dat_wosleepers = datnl.loc[-((datnl['v_2018/13'] + datnl['v_2018/14'] +\n",
    "                           datnl['v_2018/15'] + datnl['v_2018/16']) == 0 )]"
   ]
  },
  {
   "cell_type": "code",
   "execution_count": 19,
   "metadata": {},
   "outputs": [
    {
     "name": "stdout",
     "output_type": "stream",
     "text": [
      "short contracts with sleepers\n",
      "Kuendigungsstatus\n",
      "gekuendigt      0.268675\n",
      "ungekuendigt    0.211480\n",
      "dtype: float64\n",
      "\n",
      "long contracts with sleepers\n",
      "Kuendigungsstatus\n",
      "gekuendigt      0.167922\n",
      "ungekuendigt    1.088134\n",
      "dtype: float64\n",
      "\n",
      "\n",
      "\n",
      "short contracts without sleepers\n",
      "Kuendigungsstatus\n",
      "gekuendigt      0.033584\n",
      "ungekuendigt    0.132709\n",
      "dtype: float64\n",
      "\n",
      "long contracts without sleepers\n",
      "Kuendigungsstatus\n",
      "gekuendigt      0.027071\n",
      "ungekuendigt    0.806635\n",
      "dtype: float64\n"
     ]
    }
   ],
   "source": [
    "datshortwosleep = dat_wosleepers.loc[dat_wosleepers['Vertragslaenge']<=95]\n",
    "datlongwosleep = dat_wosleepers.loc[dat_wosleepers['Vertragslaenge']>95]\n",
    "\n",
    "print('short contracts with sleepers')\n",
    "print(datshort.groupby('Kuendigungsstatus').size()/dat_wosleepers.shape[0])\n",
    "print('')\n",
    "print('long contracts with sleepers')\n",
    "print(datlong.groupby('Kuendigungsstatus').size()/dat_wosleepers.shape[0])\n",
    "print('\\n\\n')\n",
    "print('short contracts without sleepers')\n",
    "print(datshortwosleep.groupby('Kuendigungsstatus').size()/dat_wosleepers.shape[0])\n",
    "print('')\n",
    "print('long contracts without sleepers')\n",
    "print(datlongwosleep.groupby('Kuendigungsstatus').size()/dat_wosleepers.shape[0])"
   ]
  },
  {
   "cell_type": "markdown",
   "metadata": {},
   "source": [
    "### Which data to use?"
   ]
  },
  {
   "cell_type": "markdown",
   "metadata": {},
   "source": [
    "##### Nutzerverhalten auf der Webseite \n",
    "Zeitreihen werden durch mean, mean normierter Standardabweichung, median, (max-min)/mean beschrieben.\n",
    "\n",
    " - visits (v)\n",
    " - page impressions (pi) absolut/per v\n",
    " - vPlus absolut/per v, Nutzer hat im Visit mind. einen Plus-Artikel angeguckt\n",
    " - piPlus\n",
    " - piSection absolut/per v, Nutzer hat auf Section geklickt\n",
    " - vSection absolut/per v\n",
    " - piArticle absolut/per v, Nutzer hat auf Article geklickt\n",
    " - piPlusArticle absolut/per v\n",
    " - vArticle absolut/per v\n",
    " - vPlusArticle absolut/per v\n",
    " - piComment absolut/per v, Nutzer hat einen Kommentar abgegeben\n",
    " - piPlusComment absolut/per v\n",
    " - vComment absolut/per v\n",
    " - vPlusComment absolut/per v\n",
    " - vMobile absolut/per v, Visit geht von Mobile aus\n",
    " - vDesktop absolut/per v, Visit geht von Desktop aus\n",
    " - vPlusDesktop\n",
    " - vPlusMobile\n",
    " \n",
    " ##### Andere Kennzahlen\n",
    " - newsl = (j/n), hatte jemals einen Newsletter\n",
    " - Vertragslänge in Tagen = wenn gekündigt, dann ('K Tag' - 'VB Tag'), sonst ('VE Tag - VB Tag')"
   ]
  },
  {
   "cell_type": "code",
   "execution_count": 24,
   "metadata": {},
   "outputs": [],
   "source": [
    "### make sub-selections for columns\n",
    "\n",
    "cols = datnl.columns.tolist()\n",
    "## Metric: Gaussian\n",
    "# absolut counts\n",
    "cols_abs_gauss = [x for x in cols if ('_mean' in x) or ('sd_normed' in x) or ('zsc_usr_behav' in x)]\n",
    "cols_abs_gauss = [x for x in cols_abs_gauss if '_per_v' not in x]\n",
    "# absolute counts per visit\n",
    "cols_per_v_gauss = [x for x in cols if ('_per_v_mean' in x) or \n",
    "                                       ('_per_v_sd_normed' in x) or\n",
    "                                       ('_per_v_prz_usr_behav' in x)]\n",
    "cols_per_v_gauss.extend(('v_mean','v_sd_normed',\n",
    "                         'v_zsc_usr_behav4','v_zsc_usr_behav3',\n",
    "                         'v_zsc_usr_behav2','v_zsc_usr_behav1'))\n",
    "\n",
    "## Metric: Rank-based\n",
    "# absolut counts\n",
    "cols_abs_median = [x for x in cols if ('_median' in x) or ('_diff_max_min_normed' in x) or ('prz_usr_behav' in x)]\n",
    "cols_abs_median = [x for x in cols_abs_median if '_per_v' not in x]\n",
    "# absolute counts per visit\n",
    "cols_per_v_median = [x for x in cols if ('_per_v_median' in x) or \n",
    "                                        ('_per_v_diff_max_min_normed' in x) or\n",
    "                                        ('_per_v_prz_usr_behav' in x)]\n",
    "cols_per_v_median.extend(('v_median','v_diff_max_min_normed',\n",
    "                         'v_prz_usr_behav4','v_prz_usr_behav3',\n",
    "                         'v_prz_usr_behav2','v_prz_usr_behav1'))\n",
    "\n",
    "## additional features\n",
    "# counts of active weeks in different categories\n",
    "cols_acti = [x for x in cols if 'act' in x]\n",
    "cols_acti_rem = [x for x in cols_acti if 'per_v' in x]\n",
    "cols_acti_rem.append('pi_activ_wks')\n",
    "cols_activ = [x for x in cols_acti if x not in cols_acti_rem]\n",
    "\n",
    "# Labels + other features: Newsletter, Vertragslaenge \n",
    "cols_others = ['Newsletter','Vertragslaenge','Kuendigungsstatus']\n",
    "\n",
    "cols_add = cols_activ + cols_others"
   ]
  },
  {
   "cell_type": "code",
   "execution_count": 25,
   "metadata": {},
   "outputs": [],
   "source": [
    "#cols_add.remove('Vertragslaenge')\n",
    "\n",
    "### create combinations of column names\n",
    "cols_abs_gauss_final = cols_abs_gauss + cols_add\n",
    "cols_abs_median_final = cols_abs_median + cols_add\n",
    "cols_abs_allMetric_final = cols_abs_median + (cols_abs_gauss + cols_add)\n",
    "\n",
    "cols_per_v_gauss_final = cols_per_v_gauss + cols_add\n",
    "cols_per_v_median_final = cols_per_v_median + cols_add\n",
    "cols_per_v_allMetric_final = cols_per_v_median + cols_per_v_gauss + cols_add\n",
    "\n",
    "cols_abs_per_v_gauss_final = cols_abs_gauss + cols_per_v_gauss + cols_add\n",
    "cols_abs_per_v_median_final = cols_abs_median + cols_per_v_median + cols_add\n",
    "cols_abs_per_v_allMetric_final = cols_abs_gauss + cols_abs_median + cols_per_v_median + cols_per_v_gauss + cols_add\n",
    "\n",
    "### prepare slicing of data, storage in dict\n",
    "list_col_dat = [cols_abs_gauss_final, cols_abs_median_final, cols_abs_allMetric_final,\n",
    "                cols_per_v_gauss_final, cols_per_v_median_final, cols_per_v_allMetric_final,\n",
    "                cols_abs_per_v_gauss_final, cols_abs_per_v_median_final, cols_abs_per_v_allMetric_final]\n",
    "\n",
    "names_dat_slices = ['dat_abs_gauss_final', 'dat_abs_median_final', 'dat_abs_allMetric_final',\n",
    "                'dat_per_v_gauss_final', 'dat_per_v_median_final', 'dat_per_v_allMetric_final',\n",
    "                'dat_abs_per_v_gauss_final', 'dat_abs_per_v_median_final', 'dat_abs_per_v_allMetric_final'] \n",
    "\n",
    "all_slices= {}\n",
    "### slicing\n",
    "for idx, slic in enumerate(list_col_dat):\n",
    "    all_slices[names_dat_slices[idx]] = datnl.loc[:,slic].copy()   \n",
    "    \n",
    "short_contract = {}\n",
    "for idx, slic in enumerate(list_col_dat):\n",
    "    short_contract[names_dat_slices[idx]] = datshort.loc[:,slic].copy() \n",
    "    \n",
    "long_contract = {}\n",
    "for idx, slic in enumerate(list_col_dat):\n",
    "    long_contract[names_dat_slices[idx]] = datlong.loc[:,slic].copy()\n",
    "    \n"
   ]
  },
  {
   "cell_type": "code",
   "execution_count": null,
   "metadata": {},
   "outputs": [],
   "source": [
    "if reducedFeatures:\n",
    "\n",
    "    ls_to_remove = ['Mobile', 'Desktop','vPlusArticle','vPlusComment']\n",
    "\n",
    "    def clean_features(liste):\n",
    "        lis = []\n",
    "        for x in liste:\n",
    "            flag = 0\n",
    "            for y in ls_to_remove:\n",
    "                if y in x:\n",
    "                    flag = 1\n",
    "                    break\n",
    "            if (flag == 0):\n",
    "                lis.append(x)\n",
    "        return lis\n",
    "\n",
    "    all_slices= {}\n",
    "    ### slicing\n",
    "    for idx, slic in enumerate(list_col_dat):\n",
    "        slic = clean_features(slic)\n",
    "        all_slices[names_dat_slices[idx]] = datnl.loc[:,slic].copy()   \n",
    "\n",
    "    short_contract = {}\n",
    "    for idx, slic in enumerate(list_col_dat):\n",
    "        slic = clean_features(slic)\n",
    "        short_contract[names_dat_slices[idx]] = datshort.loc[:,slic].copy() \n",
    "\n",
    "    long_contract = {}\n",
    "    for idx, slic in enumerate(list_col_dat):\n",
    "        slic = clean_features(slic)\n",
    "        long_contract[names_dat_slices[idx]] = datlong.loc[:,slic].copy()"
   ]
  },
  {
   "cell_type": "markdown",
   "metadata": {},
   "source": [
    "### Save data"
   ]
  },
  {
   "cell_type": "code",
   "execution_count": null,
   "metadata": {},
   "outputs": [],
   "source": [
    "## save data\n",
    "import pickle\n",
    "if wLastUserBehavior:\n",
    "    pickle.dump( (all_slices,long_contract,short_contract), open( \"dat_to_train_wlastBehav.pkl\", \"wb\" ) )\n",
    "else: \n",
    "    pickle.dump( (all_slices,long_contract,short_contract), open( \"dat_to_train_wlastBehav.pkl\", \"wb\" ) )"
   ]
  }
 ],
 "metadata": {
  "kernelspec": {
   "display_name": "Python 3",
   "language": "python",
   "name": "python3"
  },
  "language_info": {
   "codemirror_mode": {
    "name": "ipython",
    "version": 3
   },
   "file_extension": ".py",
   "mimetype": "text/x-python",
   "name": "python",
   "nbconvert_exporter": "python",
   "pygments_lexer": "ipython3",
   "version": "3.6.5"
  }
 },
 "nbformat": 4,
 "nbformat_minor": 2
}
